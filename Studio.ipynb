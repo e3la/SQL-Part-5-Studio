{
    "metadata": {
        "kernelspec": {
            "name": "SQL",
            "display_name": "SQL",
            "language": "sql"
        },
        "language_info": {
            "name": "sql",
            "version": ""
        },
        "extensions": {
            "azuredatastudio": {
                "version": 1,
                "views": []
            }
        }
    },
    "nbformat_minor": 2,
    "nbformat": 4,
    "cells": [
        {
            "cell_type": "markdown",
            "source": [
                "# Lesson 14 Studio:  A Library Service\n",
                "\n",
                "## Setting Up Your Data\n",
                "\n",
                "You will be creating 5 new tables within your own schema.\n",
                "\n",
                "4 of the tables can be populated using the starter code which can be found in the folder \"[Starter Code](https://github.com/speudusa/SQL-Part-5-Studio/tree/master/Starter%20Code)\" in the studio GitHub repository. \n",
                "\n",
                "After setting up the data you should have the following five tables:\n",
                "\n",
                "1. book\n",
                "2. author\n",
                "3. patron\n",
                "4. genre\n",
                "5. loan"
            ],
            "metadata": {
                "azdata_cell_guid": "928fed11-edfb-4971-8795-99e1a2479024"
            },
            "attachments": {}
        },
        {
            "cell_type": "markdown",
            "source": [
                "## **Part A: Setting Up Your Tables**\n",
                "\n",
                "### **Book Table**\n",
                "\n",
                "To create the **book** table, you can use the following SQL query:\n",
                "\n",
                "```\n",
                "CREATE TABLE [DB].[schema].book (\n",
                "    book_id INT IDENTITY(1,1) PRIMARY KEY, \n",
                "    author_id INT,\n",
                "    title VARCHAR(255),\n",
                "    isbn INT,\n",
                "    available BIT,\n",
                "    genre_id INT\n",
                ");\n",
                "\n",
                "```\n",
                "\n",
                "_A few notes on this syntax:_\n",
                "\n",
                "> On Auto-incrementing:\n",
                "> \n",
                "> We are going to have SQL help us assign book\\_id numbers using auto-incrementing using the **IDENTITY** property.\n",
                "> \n",
                "> The [IDENTITY](https://docs.microsoft.com/en-us/sql/t-sql/statements/create-table-transact-sql-identity-property?view=sql-server-ver15) syntax is as follows: **IDENTITY(seed, increment)**.  We want to seed the first id number as 1 in this table and increment by 1 for each following book\\_id.\n",
                "\n",
                "> On BIT datatypes:\n",
                "> \n",
                "> For the **available** column, we are going to use the [BIT datatype](https://docs.microsoft.com/en-us/sql/t-sql/data-types/bit-transact-sql?view=sql-server-ver15) to represent True or False values.  Bit allows three entries: 0 which will stand for false,  1 which will stand for true,  and NULL.\n",
                "\n",
                "> On CREATE TABLES:\n",
                "> \n",
                "> You may only create a table once.  You may comment out your creation query once you run it."
            ],
            "metadata": {
                "azdata_cell_guid": "3cd07164-2b30-427a-9b61-2889c08cdf24"
            },
            "attachments": {}
        },
        {
            "cell_type": "code",
            "source": [
                "-- Create the book table here.  Update the name of the database and schema.\n",
                "\n",
                "CREATE TABLE helena.book (\n",
                "    book_id INT IDENTITY(1,1) PRIMARY KEY, \n",
                "    author_id INT,\n",
                "    title VARCHAR(255),\n",
                "    isbn INT,\n",
                "    available BIT,\n",
                "    genre_id INT\n",
                ");\n",
                ""
            ],
            "metadata": {
                "azdata_cell_guid": "754ed0e1-18d8-4a12-ac6c-c19d7f671a0d",
                "tags": [],
                "language": "sql"
            },
            "outputs": [
                {
                    "output_type": "error",
                    "ename": "",
                    "evalue": "Msg 2714, Level 16, State 6, Line 3\r\nThere is already an object named 'book' in the database.",
                    "traceback": []
                },
                {
                    "output_type": "display_data",
                    "data": {
                        "text/html": "Total execution time: 00:00:00.030"
                    },
                    "metadata": {}
                }
            ],
            "execution_count": 12
        },
        {
            "cell_type": "markdown",
            "source": [
                "### Populate the **book** table.\n",
                "\n",
                "For the starter data, use the [book\\_data.ipynb notebook](https://github.com/speudusa/SQL-Part-5-Studio/tree/master/Starter%20Code).\n",
                "\n",
                "> You may copy/paste the commands into the next code block.  You will need to update each INSERT statement to contain the names of your database and schema."
            ],
            "metadata": {
                "azdata_cell_guid": "8a158f8e-a006-4b9c-a5b0-8dca2c8ed558"
            },
            "attachments": {}
        },
        {
            "cell_type": "code",
            "source": [
                "-- Paste the book data values in this code box.  Be sure to update database and schema names.\n",
                "\n",
                "INSERT INTO helena.book(author_id, title, isbn, available, genre_id)\n",
                "VALUES (2, 'A Midsummers Night Dream', 978149413, 1, 23)\n",
                "\n",
                "INSERT INTO helena.book(author_id, title, isbn, available, genre_id)\n",
                "VALUES (2, 'Romeo and Juliet', 988535196, 1, 3);\n",
                "\n",
                "INSERT INTO helena.book(author_id, title, isbn, available, genre_id)\n",
                "VALUES (1, 'The Golden Compass', 451664226, 1, 1);\n",
                "\n",
                "INSERT INTO helena.book(author_id, title, isbn, available, genre_id)\n",
                "VALUES (1, 'The Subtle Knife', 160419390, 1, 1);\n",
                "\n",
                "INSERT INTO helena.book(author_id, title, isbn, available, genre_id)\n",
                "VALUES (1, 'The Amber Spyglass', 94387895, 1, 1);\n",
                "\n",
                "INSERT INTO helena.book(author_id, title, isbn, available, genre_id)\n",
                "VALUES (3, 'The Alchemist', 464069772, 1, 2);\n",
                "\n",
                "INSERT INTO helena.book(author_id, title, isbn, available, genre_id)\n",
                "VALUES (4, 'And Then There Were None', 335973357, 1, 6);\n",
                "\n",
                "INSERT INTO helena.book(author_id, title, isbn, available, genre_id)\n",
                "VALUES (5, 'The Joy Luck Club', 990050329, 1, 10);\n",
                "\n",
                "INSERT INTO helena.book(author_id, title, isbn, available, genre_id)\n",
                "VALUES (5, 'The Moon Lady', 91720786, 1, 24);\n",
                "\n",
                "INSERT INTO helena.book(author_id, title, isbn, available, genre_id)\n",
                "VALUES (6, 'Sense and Sensibility', 156879860, 1, 2);\n",
                "\n",
                "INSERT INTO helena.book(author_id, title, isbn, available, genre_id)\n",
                "VALUES (6, 'Northanger Abbey', 951273178, 1, 3);\n",
                "\n",
                "INSERT INTO helena.book(author_id, title, isbn, available, genre_id)\n",
                "VALUES (6, 'Pride and Prejudice', 415886839, 1, 3);\n",
                "\n",
                "INSERT INTO helena.book(author_id, title, isbn, available, genre_id)\n",
                "VALUES (6, 'Mansfield Park', 188534067, 1, 3);\n",
                "\n",
                "INSERT INTO helena.book(author_id, title, isbn, available, genre_id)\n",
                "VALUES (6, 'Emma', 994896202, 1, 3);\n",
                "\n",
                "INSERT INTO helena.book(author_id, title, isbn, available, genre_id)\n",
                "VALUES (6, 'Persuasion', 28150097, 1, 3);\n",
                "\n",
                "INSERT INTO helena.book(author_id, title, isbn, available, genre_id)\n",
                "VALUES (6, 'Lady Susan', 230962926, 1, 3);\n",
                "\n",
                "INSERT INTO helena.book(author_id, title, isbn, available, genre_id)\n",
                "VALUES (7, 'Wuthering Heights', 280569946, 1, 3);\n",
                "\n",
                "INSERT INTO helena.book(author_id, title, isbn, available, genre_id)\n",
                "VALUES (8, 'The Handmaids Tale', 639239663, 1, 5);\n",
                "\n",
                "INSERT INTO helena.book(author_id, title, isbn, available, genre_id)\n",
                "VALUES (8, 'The Testaments', 826875490, 1, 5);\n",
                "\n",
                "INSERT INTO helena.book(author_id, title, isbn, available, genre_id)\n",
                "VALUES (9, 'The Parable of the Sower', 283359358, 1, 5);\n",
                "\n",
                "INSERT INTO helena.book(author_id, title, isbn, available, genre_id)\n",
                "VALUES (10, 'Little Women', 495409887, 1, 23);\n",
                "\n",
                "INSERT INTO helena.book(author_id, title, isbn, available, genre_id)\n",
                "VALUES (11, 'Still Life', 455128657, 1, 6);\n",
                "\n",
                "INSERT INTO helena.book(author_id, title, isbn, available, genre_id)\n",
                "VALUES (11, 'A Fatal Grace', 832517012, 1, 6);\n",
                "\n",
                "INSERT INTO helena.book(author_id, title, isbn, available, genre_id)\n",
                "VALUES (11, 'The Cruelest Month', 419285319, 1, 6);\n",
                "\n",
                "INSERT INTO helena.book(author_id, title, isbn, available, genre_id)\n",
                "VALUES (11, 'The Murder Stone', 656621400, 1, 6);\n",
                "\n",
                "INSERT INTO helena.book(author_id, title, isbn, available, genre_id)\n",
                "VALUES (11, 'The Brutal Telling', 144255852, 1, 6);\n",
                "\n",
                "INSERT INTO helena.book(author_id, title, isbn, available, genre_id)\n",
                "VALUES (11, 'Bury Your Dead', 208180961, 1, 6);\n",
                "\n",
                "INSERT INTO helena.book(author_id, title, isbn, available, genre_id)\n",
                "VALUES (11, 'A Trick of the Light', 93451531, 1, 6);\n",
                "\n",
                "INSERT INTO helena.book(author_id, title, isbn, available, genre_id)\n",
                "VALUES (12, 'Midnights Children', 881082293, 1, 10);\n",
                "\n",
                "INSERT INTO helena.book(author_id, title, isbn, available, genre_id)\n",
                "VALUES (13, 'Dont Let the Pigeon Drive the Bus!', 18409532, 1, 24);\n",
                "\n",
                "INSERT INTO helena.book(author_id, title, isbn, available, genre_id)\n",
                "VALUES (14, 'Beezus and Ramona', 744412630, 1, 24);\n",
                "\n",
                "INSERT INTO helena.book(author_id, title, isbn, available, genre_id)\n",
                "VALUES (15, 'Organic Chemistry', 604328803, 1, 25);\n",
                "\n",
                "INSERT INTO helena.book(author_id, title, isbn, available, genre_id)\n",
                "VALUES (16, 'I Know Why the Caged Bird Sings', 909947112, 1, 12);\n",
                "\n",
                "INSERT INTO helena.book(author_id, title, isbn, available, genre_id)\n",
                "VALUES (17, 'Beloved', 46736233, 1, 10);\n",
                "\n",
                "INSERT INTO helena.book(author_id, title, isbn, available, genre_id)\n",
                "VALUES (18, 'Brassbones and Rainbows', 330608463, 1, 26);"
            ],
            "metadata": {
                "azdata_cell_guid": "1abb744a-1418-4a8a-83c6-837676f6f47b",
                "tags": [],
                "language": "sql"
            },
            "outputs": [
                {
                    "output_type": "display_data",
                    "data": {
                        "text/html": "(1 row affected)"
                    },
                    "metadata": {}
                },
                {
                    "output_type": "display_data",
                    "data": {
                        "text/html": "(1 row affected)"
                    },
                    "metadata": {}
                },
                {
                    "output_type": "display_data",
                    "data": {
                        "text/html": "(1 row affected)"
                    },
                    "metadata": {}
                },
                {
                    "output_type": "display_data",
                    "data": {
                        "text/html": "(1 row affected)"
                    },
                    "metadata": {}
                },
                {
                    "output_type": "display_data",
                    "data": {
                        "text/html": "(1 row affected)"
                    },
                    "metadata": {}
                },
                {
                    "output_type": "display_data",
                    "data": {
                        "text/html": "(1 row affected)"
                    },
                    "metadata": {}
                },
                {
                    "output_type": "display_data",
                    "data": {
                        "text/html": "(1 row affected)"
                    },
                    "metadata": {}
                },
                {
                    "output_type": "display_data",
                    "data": {
                        "text/html": "(1 row affected)"
                    },
                    "metadata": {}
                },
                {
                    "output_type": "display_data",
                    "data": {
                        "text/html": "(1 row affected)"
                    },
                    "metadata": {}
                },
                {
                    "output_type": "display_data",
                    "data": {
                        "text/html": "(1 row affected)"
                    },
                    "metadata": {}
                },
                {
                    "output_type": "display_data",
                    "data": {
                        "text/html": "(1 row affected)"
                    },
                    "metadata": {}
                },
                {
                    "output_type": "display_data",
                    "data": {
                        "text/html": "(1 row affected)"
                    },
                    "metadata": {}
                },
                {
                    "output_type": "display_data",
                    "data": {
                        "text/html": "(1 row affected)"
                    },
                    "metadata": {}
                },
                {
                    "output_type": "display_data",
                    "data": {
                        "text/html": "(1 row affected)"
                    },
                    "metadata": {}
                },
                {
                    "output_type": "display_data",
                    "data": {
                        "text/html": "(1 row affected)"
                    },
                    "metadata": {}
                },
                {
                    "output_type": "display_data",
                    "data": {
                        "text/html": "(1 row affected)"
                    },
                    "metadata": {}
                },
                {
                    "output_type": "display_data",
                    "data": {
                        "text/html": "(1 row affected)"
                    },
                    "metadata": {}
                },
                {
                    "output_type": "display_data",
                    "data": {
                        "text/html": "(1 row affected)"
                    },
                    "metadata": {}
                },
                {
                    "output_type": "display_data",
                    "data": {
                        "text/html": "(1 row affected)"
                    },
                    "metadata": {}
                },
                {
                    "output_type": "display_data",
                    "data": {
                        "text/html": "(1 row affected)"
                    },
                    "metadata": {}
                },
                {
                    "output_type": "display_data",
                    "data": {
                        "text/html": "(1 row affected)"
                    },
                    "metadata": {}
                },
                {
                    "output_type": "display_data",
                    "data": {
                        "text/html": "(1 row affected)"
                    },
                    "metadata": {}
                },
                {
                    "output_type": "display_data",
                    "data": {
                        "text/html": "(1 row affected)"
                    },
                    "metadata": {}
                },
                {
                    "output_type": "display_data",
                    "data": {
                        "text/html": "(1 row affected)"
                    },
                    "metadata": {}
                },
                {
                    "output_type": "display_data",
                    "data": {
                        "text/html": "(1 row affected)"
                    },
                    "metadata": {}
                },
                {
                    "output_type": "display_data",
                    "data": {
                        "text/html": "(1 row affected)"
                    },
                    "metadata": {}
                },
                {
                    "output_type": "display_data",
                    "data": {
                        "text/html": "(1 row affected)"
                    },
                    "metadata": {}
                },
                {
                    "output_type": "display_data",
                    "data": {
                        "text/html": "(1 row affected)"
                    },
                    "metadata": {}
                },
                {
                    "output_type": "display_data",
                    "data": {
                        "text/html": "(1 row affected)"
                    },
                    "metadata": {}
                },
                {
                    "output_type": "display_data",
                    "data": {
                        "text/html": "(1 row affected)"
                    },
                    "metadata": {}
                },
                {
                    "output_type": "display_data",
                    "data": {
                        "text/html": "(1 row affected)"
                    },
                    "metadata": {}
                },
                {
                    "output_type": "display_data",
                    "data": {
                        "text/html": "(1 row affected)"
                    },
                    "metadata": {}
                },
                {
                    "output_type": "display_data",
                    "data": {
                        "text/html": "(1 row affected)"
                    },
                    "metadata": {}
                },
                {
                    "output_type": "display_data",
                    "data": {
                        "text/html": "(1 row affected)"
                    },
                    "metadata": {}
                },
                {
                    "output_type": "display_data",
                    "data": {
                        "text/html": "(1 row affected)"
                    },
                    "metadata": {}
                },
                {
                    "output_type": "display_data",
                    "data": {
                        "text/html": "Total execution time: 00:00:00.083"
                    },
                    "metadata": {}
                }
            ],
            "execution_count": 13
        },
        {
            "cell_type": "markdown",
            "source": [
                "### Test your data.  \n",
                "\n",
                "Run a quick query of your choice to see if the book table was properly created."
            ],
            "metadata": {
                "azdata_cell_guid": "1fe68960-aaec-456d-bbd9-4e00d73f542d"
            },
            "attachments": {}
        },
        {
            "cell_type": "code",
            "source": [
                "-- test your book table here.\r\n",
                "\r\n",
                "select top 5 *\r\n",
                "from helena.book"
            ],
            "metadata": {
                "azdata_cell_guid": "b0d6fa80-cde5-46d3-a2c2-d93dbfb1805f",
                "language": "sql"
            },
            "outputs": [
                {
                    "output_type": "display_data",
                    "data": {
                        "text/html": "(5 rows affected)"
                    },
                    "metadata": {}
                },
                {
                    "output_type": "display_data",
                    "data": {
                        "text/html": "Total execution time: 00:00:00.040"
                    },
                    "metadata": {}
                },
                {
                    "output_type": "execute_result",
                    "execution_count": 14,
                    "data": {
                        "application/vnd.dataresource+json": {
                            "schema": {
                                "fields": [
                                    {
                                        "name": "book_id"
                                    },
                                    {
                                        "name": "author_id"
                                    },
                                    {
                                        "name": "title"
                                    },
                                    {
                                        "name": "isbn"
                                    },
                                    {
                                        "name": "available"
                                    },
                                    {
                                        "name": "genre_id"
                                    }
                                ]
                            },
                            "data": [
                                {
                                    "book_id": "1",
                                    "author_id": "2",
                                    "title": "A Midsummers Night Dream",
                                    "isbn": "978149413",
                                    "available": "1",
                                    "genre_id": "23"
                                },
                                {
                                    "book_id": "2",
                                    "author_id": "2",
                                    "title": "Romeo and Juliet",
                                    "isbn": "988535196",
                                    "available": "1",
                                    "genre_id": "3"
                                },
                                {
                                    "book_id": "3",
                                    "author_id": "1",
                                    "title": "The Golden Compass",
                                    "isbn": "451664226",
                                    "available": "1",
                                    "genre_id": "1"
                                },
                                {
                                    "book_id": "4",
                                    "author_id": "1",
                                    "title": "The Subtle Knife",
                                    "isbn": "160419390",
                                    "available": "1",
                                    "genre_id": "1"
                                },
                                {
                                    "book_id": "5",
                                    "author_id": "1",
                                    "title": "The Amber Spyglass",
                                    "isbn": "94387895",
                                    "available": "1",
                                    "genre_id": "1"
                                }
                            ]
                        },
                        "text/html": "<table><tr><th>book_id</th><th>author_id</th><th>title</th><th>isbn</th><th>available</th><th>genre_id</th></tr><tr><td>1</td><td>2</td><td>A Midsummers Night Dream</td><td>978149413</td><td>1</td><td>23</td></tr><tr><td>2</td><td>2</td><td>Romeo and Juliet</td><td>988535196</td><td>1</td><td>3</td></tr><tr><td>3</td><td>1</td><td>The Golden Compass</td><td>451664226</td><td>1</td><td>1</td></tr><tr><td>4</td><td>1</td><td>The Subtle Knife</td><td>160419390</td><td>1</td><td>1</td></tr><tr><td>5</td><td>1</td><td>The Amber Spyglass</td><td>94387895</td><td>1</td><td>1</td></tr></table>"
                    },
                    "metadata": {}
                }
            ],
            "execution_count": 14
        },
        {
            "cell_type": "markdown",
            "source": [
                "We will repeat a similar process for the **author, patron,** and **genre** tables. \n",
                "\n",
                "### **Author Table**\n",
                "\n",
                "To create the **author** table, you will use the following code:\n",
                "\n",
                "```\n",
                "CREATE TABLE [DB].[schema].author (\n",
                "    author_id INT IDENTITY(1,1), PRIMARY KEY\n",
                "    first_name VARCHAR(255),\n",
                "    last_name VARCHAR(255),\n",
                "    birth_year INT,\n",
                "    death_year INT\n",
                ");\n",
                "```"
            ],
            "metadata": {
                "azdata_cell_guid": "b63ee318-4506-48f1-adb1-267925282624"
            },
            "attachments": {}
        },
        {
            "cell_type": "code",
            "source": [
                "-- create the author table here:\n",
                "\n",
                "CREATE TABLE helena.author (\n",
                "    author_id INT IDENTITY(1,1) PRIMARY KEY,\n",
                "    first_name VARCHAR(255),\n",
                "    last_name VARCHAR(255),\n",
                "    birth_year INT,\n",
                "    death_year INT\n",
                ");\n",
                ""
            ],
            "metadata": {
                "azdata_cell_guid": "c3903edb-35bf-4806-b554-ecbf3736b7bf",
                "language": "sql"
            },
            "outputs": [
                {
                    "output_type": "error",
                    "ename": "",
                    "evalue": "Msg 2714, Level 16, State 6, Line 3\r\nThere is already an object named 'author' in the database.",
                    "traceback": []
                },
                {
                    "output_type": "display_data",
                    "data": {
                        "text/html": "Total execution time: 00:00:00.031"
                    },
                    "metadata": {}
                }
            ],
            "execution_count": 15
        },
        {
            "cell_type": "markdown",
            "source": [
                "Populate the **author** table with the [author\\_data.ipynb](https://github.com/speudusa/SQL-Part-5-Studio/tree/master/Starter%20Code)."
            ],
            "metadata": {
                "azdata_cell_guid": "80c74052-6126-4ebd-90fb-4fd6720c79ac"
            },
            "attachments": {}
        },
        {
            "cell_type": "code",
            "source": [
                "-- paste the author data values in this code.\r\n",
                "\r\n",
                "\r\n",
                "INSERT INTO helena.author(first_name, last_name, birth_year, death_year)\r\n",
                "VALUES ('Phillip', 'Pullman', 1946, null);\r\n",
                "\r\n",
                "INSERT INTO helena.author(first_name, last_name, birth_year, death_year)\r\n",
                "VALUES ('William', 'Shakespeare', 1564, 1616);\r\n",
                "\r\n",
                "INSERT INTO helena.author(first_name, last_name, birth_year, death_year)\r\n",
                "VALUES ('Paulo', 'Coelho', 1947, null);\r\n",
                "\r\n",
                "INSERT INTO helena.author(first_name, last_name, birth_year, death_year)\r\n",
                "VALUES ('Agatha', 'Christie', 1890-09-15, 1976-01-12);\r\n",
                "\r\n",
                "INSERT INTO helena.author(first_name, last_name, birth_year, death_year)\r\n",
                "VALUES ('Amy', 'Tan', 1952-02-19, null);\r\n",
                "\r\n",
                "INSERT INTO helena.author(first_name, last_name, birth_year, death_year)\r\n",
                "VALUES ('Jane', 'Austin', 1775-12-16, 1817-07-18);\r\n",
                "\r\n",
                "INSERT INTO helena.author(first_name, last_name, birth_year, death_year)\r\n",
                "VALUES ('Emily', 'Bronte', 1818-07-30, 1848-12-19);\r\n",
                "\r\n",
                "INSERT INTO helena.author(first_name, last_name, birth_year, death_year)\r\n",
                "VALUES ('Margaret', 'Atwood', 1939-11-18, null);\r\n",
                "\r\n",
                "INSERT INTO helena.author(first_name, last_name, birth_year, death_year)\r\n",
                "VALUES ('Octavia', 'Butler', 1947-06-22, 2006-02-24);\r\n",
                "\r\n",
                "INSERT INTO helena.author(first_name, last_name, birth_year, death_year)\r\n",
                "VALUES ('Louisa May', 'Alcott', 1832-11-29, 1888-03-06);\r\n",
                "\r\n",
                "INSERT INTO helena.author(first_name, last_name, birth_year, death_year)\r\n",
                "VALUES ('Louise', 'Penny', 1958-07-01, null);\r\n",
                "\r\n",
                "INSERT INTO helena.author(first_name, last_name, birth_year, death_year)\r\n",
                "VALUES ('Salman', 'Rushdie', 1947-08-19, null);\r\n",
                "\r\n",
                "INSERT INTO helena.author(first_name, last_name, birth_year, death_year)\r\n",
                "VALUES ('Mo', 'Willems', 1968-02-11, null);\r\n",
                "\r\n",
                "INSERT INTO helena.author(first_name, last_name, birth_year, death_year)\r\n",
                "VALUES ('Beverly', 'Cleary', 1916-04-12, null);\r\n",
                "\r\n",
                "INSERT INTO helena.author(first_name, last_name, birth_year, death_year)\r\n",
                "VALUES ('Peter', 'Vollhardt', 1946-03-07, null);\r\n",
                "\r\n",
                "INSERT INTO helena.author(first_name, last_name, birth_year, death_year)\r\n",
                "VALUES ('Maya', 'Angelou', 1928-04-04, 2014-05-28);\r\n",
                "\r\n",
                "INSERT INTO helena.author(first_name, last_name, birth_year, death_year)\r\n",
                "VALUES ('Toni', 'Morrison', 1931-02-18, 2019-08-05);\r\n",
                "\r\n",
                "INSERT INTO helena.author(first_name, last_name, birth_year, death_year)\r\n",
                "VALUES ('Shirley', 'LeFlore', 1940-03-06, 2019-05-12)"
            ],
            "metadata": {
                "azdata_cell_guid": "2f7ea794-a4a0-4b28-ba15-20e07065dc84",
                "language": "sql"
            },
            "outputs": [
                {
                    "output_type": "display_data",
                    "data": {
                        "text/html": "(1 row affected)"
                    },
                    "metadata": {}
                },
                {
                    "output_type": "display_data",
                    "data": {
                        "text/html": "(1 row affected)"
                    },
                    "metadata": {}
                },
                {
                    "output_type": "display_data",
                    "data": {
                        "text/html": "(1 row affected)"
                    },
                    "metadata": {}
                },
                {
                    "output_type": "display_data",
                    "data": {
                        "text/html": "(1 row affected)"
                    },
                    "metadata": {}
                },
                {
                    "output_type": "display_data",
                    "data": {
                        "text/html": "(1 row affected)"
                    },
                    "metadata": {}
                },
                {
                    "output_type": "display_data",
                    "data": {
                        "text/html": "(1 row affected)"
                    },
                    "metadata": {}
                },
                {
                    "output_type": "display_data",
                    "data": {
                        "text/html": "(1 row affected)"
                    },
                    "metadata": {}
                },
                {
                    "output_type": "display_data",
                    "data": {
                        "text/html": "(1 row affected)"
                    },
                    "metadata": {}
                },
                {
                    "output_type": "display_data",
                    "data": {
                        "text/html": "(1 row affected)"
                    },
                    "metadata": {}
                },
                {
                    "output_type": "display_data",
                    "data": {
                        "text/html": "(1 row affected)"
                    },
                    "metadata": {}
                },
                {
                    "output_type": "display_data",
                    "data": {
                        "text/html": "(1 row affected)"
                    },
                    "metadata": {}
                },
                {
                    "output_type": "display_data",
                    "data": {
                        "text/html": "(1 row affected)"
                    },
                    "metadata": {}
                },
                {
                    "output_type": "display_data",
                    "data": {
                        "text/html": "(1 row affected)"
                    },
                    "metadata": {}
                },
                {
                    "output_type": "display_data",
                    "data": {
                        "text/html": "(1 row affected)"
                    },
                    "metadata": {}
                },
                {
                    "output_type": "display_data",
                    "data": {
                        "text/html": "(1 row affected)"
                    },
                    "metadata": {}
                },
                {
                    "output_type": "display_data",
                    "data": {
                        "text/html": "(1 row affected)"
                    },
                    "metadata": {}
                },
                {
                    "output_type": "display_data",
                    "data": {
                        "text/html": "(1 row affected)"
                    },
                    "metadata": {}
                },
                {
                    "output_type": "display_data",
                    "data": {
                        "text/html": "(1 row affected)"
                    },
                    "metadata": {}
                },
                {
                    "output_type": "display_data",
                    "data": {
                        "text/html": "Total execution time: 00:00:00.071"
                    },
                    "metadata": {}
                }
            ],
            "execution_count": 16
        },
        {
            "cell_type": "markdown",
            "source": [
                "### **Patron Table**\n",
                "\n",
                "To create the **patron**, you will use the following code:\n",
                "\n",
                "```\n",
                "CREATE TABLE [DB].[schema].patron (\n",
                "    patron_id INT IDENTITY (1,1) PRIMARY KEY,\n",
                "    first_name VARCHAR(255),\n",
                "    last_name VARCHAR(255),\n",
                "    loan_id INT\n",
                ");\n",
                "```"
            ],
            "metadata": {
                "azdata_cell_guid": "a530aabe-e455-4369-8c06-db0e6001388c"
            },
            "attachments": {}
        },
        {
            "cell_type": "code",
            "source": [
                "-- create the patron table here:\r\n",
                "\r\n",
                "CREATE TABLE helena.patron (\r\n",
                "    patron_id INT IDENTITY (1,1) PRIMARY KEY,\r\n",
                "    first_name VARCHAR(255),\r\n",
                "    last_name VARCHAR(255),\r\n",
                "    loan_id INT\r\n",
                ");"
            ],
            "metadata": {
                "azdata_cell_guid": "864ecf06-5b94-4bcc-b281-6ab9b65a2343",
                "language": "sql"
            },
            "outputs": [
                {
                    "output_type": "error",
                    "ename": "",
                    "evalue": "Msg 2714, Level 16, State 6, Line 3\r\nThere is already an object named 'patron' in the database.",
                    "traceback": []
                },
                {
                    "output_type": "display_data",
                    "data": {
                        "text/html": "Total execution time: 00:00:00.031"
                    },
                    "metadata": {}
                }
            ],
            "execution_count": 17
        },
        {
            "cell_type": "markdown",
            "source": [
                "Populate the **patron** table with the [patron\\_data.ipynb](https://github.com/speudusa/SQL-Part-5-Studio/tree/master/Starter%20Code) notebook."
            ],
            "metadata": {
                "azdata_cell_guid": "48f1e14c-8d2a-458c-8c75-4223fd5344ba"
            },
            "attachments": {}
        },
        {
            "cell_type": "code",
            "source": [
                "-- insert patron data into the table here:\n",
                "\n",
                "INSERT INTO helena.patron(first_name, last_name, loan_id)\n",
                "VALUES ('Jennifer', 'Slayny', NULL);\n",
                "\n",
                "INSERT INTO helena.patron(first_name, last_name, loan_id)\n",
                "VALUES ('Susan', 'Traviss', NULL);\n",
                "\n",
                "INSERT INTO helena.patron(first_name, last_name, loan_id)\n",
                "VALUES ('Vincent', 'Ritelli', NULL);\n",
                "\n",
                "INSERT INTO helena.patron(first_name, last_name, loan_id)\n",
                "VALUES ('Tasia', 'Laybourne', NULL);\n",
                "\n",
                "INSERT INTO helena.patron(first_name, last_name, loan_id)\n",
                "VALUES ('Wren', 'Gergler', NULL);\n",
                "\n",
                "INSERT INTO helena.patron(first_name, last_name, loan_id)\n",
                "VALUES ('Tory', 'Lees', NULL);\n",
                "\n",
                "INSERT INTO helena.patron(first_name, last_name, loan_id)\n",
                "VALUES ('Estelle', 'Di Lorio', NULL);\n",
                "\n",
                "INSERT INTO helena.patron(first_name, last_name, loan_id)\n",
                "VALUES ('Dorian', 'Betje', NULL);\n",
                "\n",
                "INSERT INTO helena.patron(first_name, last_name, loan_id)\n",
                "VALUES ('Frank', 'Jelk', NULL);\n",
                "\n",
                "INSERT INTO helena.patron(first_name, last_name, loan_id)\n",
                "VALUES ('Chris', 'Endon', NULL);\n",
                "\n",
                "INSERT INTO helena.patron(first_name, last_name, loan_id)\n",
                "VALUES ('Gillie', 'Fritz', NULL);\n",
                "\n",
                "INSERT INTO helena.patron(first_name, last_name, loan_id)\n",
                "VALUES ('Leisha', 'Defty', NULL);\n",
                "\n",
                "INSERT INTO helena.patron(first_name, last_name, loan_id)\n",
                "VALUES ('Erika', 'Bompass', NULL);\n",
                "\n",
                "INSERT INTO helena.patron(first_name, last_name, loan_id)\n",
                "VALUES ('Gabe', 'Moxstead', NULL);\n",
                "\n",
                "INSERT INTO helena.patron(first_name, last_name, loan_id)\n",
                "VALUES ('Blake', 'Teresse', NULL);\n",
                "\n",
                "INSERT INTO helena.patron(first_name, last_name, loan_id)\n",
                "VALUES ('Joshua', 'Timmouth', NULL);\n",
                "\n",
                "INSERT INTO helena.patron(first_name, last_name, loan_id)\n",
                "VALUES ('Tasha', 'Timmouth', NULL);\n",
                "\n",
                "INSERT INTO helena.patron(first_name, last_name, loan_id)\n",
                "VALUES ('Neil', 'Davie', NULL);\n",
                "\n",
                "INSERT INTO helena.patron(first_name, last_name, loan_id)\n",
                "VALUES ('Emmeline', 'Pitherick', NULL);\n",
                "\n",
                "INSERT INTO helena.patron(first_name, last_name, loan_id)\n",
                "VALUES ('Josiah', 'Staner', NULL);\n",
                "\n",
                "INSERT INTO helena.patron(first_name, last_name, loan_id)\n",
                "VALUES ('James', 'Greetham', NULL);\n",
                "\n",
                "INSERT INTO helena.patron(first_name, last_name, loan_id)\n",
                "VALUES ('Isaac', 'Barstowk', NULL);\n",
                "\n",
                "INSERT INTO helena.patron(first_name, last_name, loan_id)\n",
                "VALUES ('Dean', 'Nelane', NULL);\n",
                "\n",
                "INSERT INTO helena.patron(first_name, last_name, loan_id)\n",
                "VALUES ('Carolina', 'Cranmere', NULL);\n",
                "\n",
                "INSERT INTO helena.patron(first_name, last_name, loan_id)\n",
                "VALUES ('Champ', 'Lardiner', NULL);\n",
                "\n",
                "INSERT INTO helena.patron(first_name, last_name, loan_id)\n",
                "VALUES ('Abbie', 'Quaif', NULL);\n",
                "\n",
                "INSERT INTO helena.patron(first_name, last_name, loan_id)\n",
                "VALUES ('Camile', 'Milbourne', NULL);\n",
                "\n",
                "INSERT INTO helena.patron(first_name, last_name, loan_id)\n",
                "VALUES ('Quentin', 'Crose', NULL);\n",
                "\n",
                "INSERT INTO helena.patron(first_name, last_name, loan_id)\n",
                "VALUES ('Silvano', 'Horlick', NULL);\n",
                "\n",
                "INSERT INTO helena.patron(first_name, last_name, loan_id)\n",
                "VALUES ('Phyllis', 'Cicchillo', NULL);\n",
                "\n",
                "INSERT INTO helena.patron(first_name, last_name, loan_id)\n",
                "VALUES ('Jerrie', 'Brownhall', NULL);\n",
                "\n",
                "INSERT INTO helena.patron(first_name, last_name, loan_id)\n",
                "VALUES ('Ludovika', 'Leist', NULL);\n",
                "\n",
                "INSERT INTO helena.patron(first_name, last_name, loan_id)\n",
                "VALUES ('Tara', 'Knatt', NULL);\n",
                "\n",
                "INSERT INTO helena.patron(first_name, last_name, loan_id)\n",
                "VALUES ('Kelsie', 'Parkson', NULL);\n",
                "\n",
                "INSERT INTO helena.patron(first_name, last_name, loan_id)\n",
                "VALUES ('Jodi', 'Leopard', NULL);\n",
                "\n",
                "INSERT INTO helena.patron(first_name, last_name, loan_id)\n",
                "VALUES ('Rosanna', 'Cultcheth', NULL);\n",
                "\n",
                "INSERT INTO helena.patron(first_name, last_name, loan_id)\n",
                "VALUES ('Remy', 'Fairpool', NULL);\n",
                "\n",
                "INSERT INTO helena.patron(first_name, last_name, loan_id)\n",
                "VALUES ('Megan', 'Blyth', NULL);\n",
                "\n",
                "INSERT INTO helena.patron(first_name, last_name, loan_id)\n",
                "VALUES ('Rikki', 'McLernon', NULL);\n",
                "\n",
                "INSERT INTO helena.patron(first_name, last_name, loan_id)\n",
                "VALUES ('Clare', 'Haacker', NULL);\n",
                "\n",
                "INSERT INTO helena.patron(first_name, last_name, loan_id)\n",
                "VALUES ('Vincent', 'Chettle', NULL);\n",
                "\n",
                "INSERT INTO helena.patron(first_name, last_name, loan_id)\n",
                "VALUES ('Sybil', 'Costanza', NULL);\n",
                "\n",
                "INSERT INTO helena.patron(first_name, last_name, loan_id)\n",
                "VALUES ('Jonas', 'Sinclare', NULL);\n",
                "\n",
                "INSERT INTO helena.patron(first_name, last_name, loan_id)\n",
                "VALUES ('Claire', 'Bendel', NULL);\n",
                "\n",
                "INSERT INTO helena.patron(first_name, last_name, loan_id)\n",
                "VALUES ('Kathleen', 'Welband', NULL);\n",
                "\n",
                "INSERT INTO helena.patron(first_name, last_name, loan_id)\n",
                "VALUES ('Kylie', 'Crannage', NULL);\n",
                "\n",
                "INSERT INTO helena.patron(first_name, last_name, loan_id)\n",
                "VALUES ('Evelyn', 'Tarajo', NULL);\n",
                "\n",
                "INSERT INTO helena.patron(first_name, last_name, loan_id)\n",
                "VALUES ('Oliver', 'Caulson', NULL);\n",
                ""
            ],
            "metadata": {
                "azdata_cell_guid": "8aa02813-50d7-4c02-9c0f-cf5da207a0b1",
                "tags": [],
                "language": "sql"
            },
            "outputs": [
                {
                    "output_type": "display_data",
                    "data": {
                        "text/html": "(1 row affected)"
                    },
                    "metadata": {}
                },
                {
                    "output_type": "display_data",
                    "data": {
                        "text/html": "(1 row affected)"
                    },
                    "metadata": {}
                },
                {
                    "output_type": "display_data",
                    "data": {
                        "text/html": "(1 row affected)"
                    },
                    "metadata": {}
                },
                {
                    "output_type": "display_data",
                    "data": {
                        "text/html": "(1 row affected)"
                    },
                    "metadata": {}
                },
                {
                    "output_type": "display_data",
                    "data": {
                        "text/html": "(1 row affected)"
                    },
                    "metadata": {}
                },
                {
                    "output_type": "display_data",
                    "data": {
                        "text/html": "(1 row affected)"
                    },
                    "metadata": {}
                },
                {
                    "output_type": "display_data",
                    "data": {
                        "text/html": "(1 row affected)"
                    },
                    "metadata": {}
                },
                {
                    "output_type": "display_data",
                    "data": {
                        "text/html": "(1 row affected)"
                    },
                    "metadata": {}
                },
                {
                    "output_type": "display_data",
                    "data": {
                        "text/html": "(1 row affected)"
                    },
                    "metadata": {}
                },
                {
                    "output_type": "display_data",
                    "data": {
                        "text/html": "(1 row affected)"
                    },
                    "metadata": {}
                },
                {
                    "output_type": "display_data",
                    "data": {
                        "text/html": "(1 row affected)"
                    },
                    "metadata": {}
                },
                {
                    "output_type": "display_data",
                    "data": {
                        "text/html": "(1 row affected)"
                    },
                    "metadata": {}
                },
                {
                    "output_type": "display_data",
                    "data": {
                        "text/html": "(1 row affected)"
                    },
                    "metadata": {}
                },
                {
                    "output_type": "display_data",
                    "data": {
                        "text/html": "(1 row affected)"
                    },
                    "metadata": {}
                },
                {
                    "output_type": "display_data",
                    "data": {
                        "text/html": "(1 row affected)"
                    },
                    "metadata": {}
                },
                {
                    "output_type": "display_data",
                    "data": {
                        "text/html": "(1 row affected)"
                    },
                    "metadata": {}
                },
                {
                    "output_type": "display_data",
                    "data": {
                        "text/html": "(1 row affected)"
                    },
                    "metadata": {}
                },
                {
                    "output_type": "display_data",
                    "data": {
                        "text/html": "(1 row affected)"
                    },
                    "metadata": {}
                },
                {
                    "output_type": "display_data",
                    "data": {
                        "text/html": "(1 row affected)"
                    },
                    "metadata": {}
                },
                {
                    "output_type": "display_data",
                    "data": {
                        "text/html": "(1 row affected)"
                    },
                    "metadata": {}
                },
                {
                    "output_type": "display_data",
                    "data": {
                        "text/html": "(1 row affected)"
                    },
                    "metadata": {}
                },
                {
                    "output_type": "display_data",
                    "data": {
                        "text/html": "(1 row affected)"
                    },
                    "metadata": {}
                },
                {
                    "output_type": "display_data",
                    "data": {
                        "text/html": "(1 row affected)"
                    },
                    "metadata": {}
                },
                {
                    "output_type": "display_data",
                    "data": {
                        "text/html": "(1 row affected)"
                    },
                    "metadata": {}
                },
                {
                    "output_type": "display_data",
                    "data": {
                        "text/html": "(1 row affected)"
                    },
                    "metadata": {}
                },
                {
                    "output_type": "display_data",
                    "data": {
                        "text/html": "(1 row affected)"
                    },
                    "metadata": {}
                },
                {
                    "output_type": "display_data",
                    "data": {
                        "text/html": "(1 row affected)"
                    },
                    "metadata": {}
                },
                {
                    "output_type": "display_data",
                    "data": {
                        "text/html": "(1 row affected)"
                    },
                    "metadata": {}
                },
                {
                    "output_type": "display_data",
                    "data": {
                        "text/html": "(1 row affected)"
                    },
                    "metadata": {}
                },
                {
                    "output_type": "display_data",
                    "data": {
                        "text/html": "(1 row affected)"
                    },
                    "metadata": {}
                },
                {
                    "output_type": "display_data",
                    "data": {
                        "text/html": "(1 row affected)"
                    },
                    "metadata": {}
                },
                {
                    "output_type": "display_data",
                    "data": {
                        "text/html": "(1 row affected)"
                    },
                    "metadata": {}
                },
                {
                    "output_type": "display_data",
                    "data": {
                        "text/html": "(1 row affected)"
                    },
                    "metadata": {}
                },
                {
                    "output_type": "display_data",
                    "data": {
                        "text/html": "(1 row affected)"
                    },
                    "metadata": {}
                },
                {
                    "output_type": "display_data",
                    "data": {
                        "text/html": "(1 row affected)"
                    },
                    "metadata": {}
                },
                {
                    "output_type": "display_data",
                    "data": {
                        "text/html": "(1 row affected)"
                    },
                    "metadata": {}
                },
                {
                    "output_type": "display_data",
                    "data": {
                        "text/html": "(1 row affected)"
                    },
                    "metadata": {}
                },
                {
                    "output_type": "display_data",
                    "data": {
                        "text/html": "(1 row affected)"
                    },
                    "metadata": {}
                },
                {
                    "output_type": "display_data",
                    "data": {
                        "text/html": "(1 row affected)"
                    },
                    "metadata": {}
                },
                {
                    "output_type": "display_data",
                    "data": {
                        "text/html": "(1 row affected)"
                    },
                    "metadata": {}
                },
                {
                    "output_type": "display_data",
                    "data": {
                        "text/html": "(1 row affected)"
                    },
                    "metadata": {}
                },
                {
                    "output_type": "display_data",
                    "data": {
                        "text/html": "(1 row affected)"
                    },
                    "metadata": {}
                },
                {
                    "output_type": "display_data",
                    "data": {
                        "text/html": "(1 row affected)"
                    },
                    "metadata": {}
                },
                {
                    "output_type": "display_data",
                    "data": {
                        "text/html": "(1 row affected)"
                    },
                    "metadata": {}
                },
                {
                    "output_type": "display_data",
                    "data": {
                        "text/html": "(1 row affected)"
                    },
                    "metadata": {}
                },
                {
                    "output_type": "display_data",
                    "data": {
                        "text/html": "(1 row affected)"
                    },
                    "metadata": {}
                },
                {
                    "output_type": "display_data",
                    "data": {
                        "text/html": "(1 row affected)"
                    },
                    "metadata": {}
                },
                {
                    "output_type": "display_data",
                    "data": {
                        "text/html": "(1 row affected)"
                    },
                    "metadata": {}
                },
                {
                    "output_type": "display_data",
                    "data": {
                        "text/html": "Total execution time: 00:00:00.105"
                    },
                    "metadata": {}
                }
            ],
            "execution_count": 18
        },
        {
            "cell_type": "markdown",
            "source": [
                "### **Genre Table**\n",
                "\n",
                "To create the **genre** table, use the following code:\n",
                "\n",
                "```\n",
                "CREATE TABLE [DB].[schema].genre (\n",
                "    genre_id INT PRIMARY KEY,\n",
                "    genres VARCHAR(100)\n",
                ");\n",
                "```"
            ],
            "metadata": {
                "azdata_cell_guid": "d7e74ee6-1ca3-4e79-beb5-04543b03b7cf"
            },
            "attachments": {}
        },
        {
            "cell_type": "code",
            "source": [
                "-- create genre table here:\r\n",
                "\r\n",
                "CREATE TABLE helena.genre (\r\n",
                "    genre_id INT PRIMARY KEY,\r\n",
                "    genres VARCHAR(100)\r\n",
                ");"
            ],
            "metadata": {
                "azdata_cell_guid": "90f553ee-b7e8-4509-8ac7-bf81c0b42158",
                "language": "sql"
            },
            "outputs": [
                {
                    "output_type": "display_data",
                    "data": {
                        "text/html": "Commands completed successfully."
                    },
                    "metadata": {}
                },
                {
                    "output_type": "display_data",
                    "data": {
                        "text/html": "Total execution time: 00:00:00.037"
                    },
                    "metadata": {}
                }
            ],
            "execution_count": 19
        },
        {
            "cell_type": "markdown",
            "source": [
                "Populate the **genre** table with the [genre\\_data.ipybn](https://github.com/speudusa/SQL-Part-5-Studio/tree/master/Starter%20Code) notebook."
            ],
            "metadata": {
                "azdata_cell_guid": "ed09922e-5d4f-437a-97c6-9bb052839503"
            },
            "attachments": {}
        },
        {
            "cell_type": "code",
            "source": [
                "-- insert the genre data into the table here:\r\n",
                "\r\n",
                "-- populating genre table\r\n",
                "INSERT INTO helena.genre(genre_id, genres)\r\n",
                "VALUES (1, 'Fantasy');\r\n",
                "\r\n",
                "INSERT INTO helena.genre(genre_id, genres)\r\n",
                "VALUES (2, 'Adventure');\r\n",
                "\r\n",
                "INSERT INTO helena.genre(genre_id, genres)\r\n",
                "VALUES (3, 'Romance');\r\n",
                "\r\n",
                "INSERT INTO helena.genre(genre_id, genres)\r\n",
                "VALUES (4, 'Contemporary');\r\n",
                "\r\n",
                "INSERT INTO helena.genre(genre_id, genres)\r\n",
                "VALUES (5, 'Dystopian');\r\n",
                "\r\n",
                "INSERT INTO helena.genre(genre_id, genres)\r\n",
                "VALUES (6, 'Mystery');\r\n",
                "\r\n",
                "INSERT INTO helena.genre(genre_id, genres)\r\n",
                "VALUES (7, 'Horror');\r\n",
                "\r\n",
                "INSERT INTO helena.genre(genre_id, genres)\r\n",
                "VALUES (8, 'Thriller');\r\n",
                "\r\n",
                "INSERT INTO helena.genre(genre_id, genres)\r\n",
                "VALUES (9, 'Paranormal');\r\n",
                "\r\n",
                "INSERT INTO helena.genre(genre_id, genres)\r\n",
                "VALUES (10, 'Historical Fiction');\r\n",
                "\r\n",
                "INSERT INTO helena.genre(genre_id, genres)\r\n",
                "VALUES (11, 'Science Fiction');\r\n",
                "\r\n",
                "INSERT INTO helena.genre(genre_id, genres)\r\n",
                "VALUES (12, 'Memoir');\r\n",
                "\r\n",
                "INSERT INTO helena.genre(genre_id, genres)\r\n",
                "VALUES (13, 'Cooking');\r\n",
                "\r\n",
                "INSERT INTO helena.genre(genre_id, genres)\r\n",
                "VALUES (14, 'Art');\r\n",
                "\r\n",
                "INSERT INTO helena.genre(genre_id, genres)\r\n",
                "VALUES (15, 'Self-Help');\r\n",
                "\r\n",
                "INSERT INTO helena.genre(genre_id, genres)\r\n",
                "VALUES (16, 'Development');\r\n",
                "\r\n",
                "INSERT INTO helena.genre(genre_id, genres)\r\n",
                "VALUES (17, 'Motivational');\r\n",
                "\r\n",
                "INSERT INTO helena.genre(genre_id, genres)\r\n",
                "VALUES (18, 'Health');\r\n",
                "\r\n",
                "INSERT INTO helena.genre(genre_id, genres)\r\n",
                "VALUES (19, 'History');\r\n",
                "\r\n",
                "INSERT INTO helena.genre(genre_id, genres)\r\n",
                "VALUES (20, 'Travel');\r\n",
                "\r\n",
                "INSERT INTO helena.genre(genre_id, genres)\r\n",
                "VALUES (21, 'Guide');\r\n",
                "\r\n",
                "INSERT INTO helena.genre(genre_id, genres)\r\n",
                "VALUES (22, 'Families and Relationships');\r\n",
                "\r\n",
                "INSERT INTO helena.genre(genre_id, genres)\r\n",
                "VALUES (23, 'Humor');\r\n",
                "\r\n",
                "INSERT INTO helena.genre(genre_id, genres)\r\n",
                "VALUES (24, 'Childrens');\r\n",
                "\r\n",
                "INSERT INTO helena.genre(genre_id, genres)\r\n",
                "VALUES (25, 'Reference');\r\n",
                "\r\n",
                "INSERT INTO helena.genre(genre_id, genres)\r\n",
                "VALUES (26, 'Poetry');"
            ],
            "metadata": {
                "azdata_cell_guid": "d21f25bc-3bc0-4c48-932f-728fdc2c0f1b",
                "language": "sql"
            },
            "outputs": [
                {
                    "output_type": "display_data",
                    "data": {
                        "text/html": "(1 row affected)"
                    },
                    "metadata": {}
                },
                {
                    "output_type": "display_data",
                    "data": {
                        "text/html": "(1 row affected)"
                    },
                    "metadata": {}
                },
                {
                    "output_type": "display_data",
                    "data": {
                        "text/html": "(1 row affected)"
                    },
                    "metadata": {}
                },
                {
                    "output_type": "display_data",
                    "data": {
                        "text/html": "(1 row affected)"
                    },
                    "metadata": {}
                },
                {
                    "output_type": "display_data",
                    "data": {
                        "text/html": "(1 row affected)"
                    },
                    "metadata": {}
                },
                {
                    "output_type": "display_data",
                    "data": {
                        "text/html": "(1 row affected)"
                    },
                    "metadata": {}
                },
                {
                    "output_type": "display_data",
                    "data": {
                        "text/html": "(1 row affected)"
                    },
                    "metadata": {}
                },
                {
                    "output_type": "display_data",
                    "data": {
                        "text/html": "(1 row affected)"
                    },
                    "metadata": {}
                },
                {
                    "output_type": "display_data",
                    "data": {
                        "text/html": "(1 row affected)"
                    },
                    "metadata": {}
                },
                {
                    "output_type": "display_data",
                    "data": {
                        "text/html": "(1 row affected)"
                    },
                    "metadata": {}
                },
                {
                    "output_type": "display_data",
                    "data": {
                        "text/html": "(1 row affected)"
                    },
                    "metadata": {}
                },
                {
                    "output_type": "display_data",
                    "data": {
                        "text/html": "(1 row affected)"
                    },
                    "metadata": {}
                },
                {
                    "output_type": "display_data",
                    "data": {
                        "text/html": "(1 row affected)"
                    },
                    "metadata": {}
                },
                {
                    "output_type": "display_data",
                    "data": {
                        "text/html": "(1 row affected)"
                    },
                    "metadata": {}
                },
                {
                    "output_type": "display_data",
                    "data": {
                        "text/html": "(1 row affected)"
                    },
                    "metadata": {}
                },
                {
                    "output_type": "display_data",
                    "data": {
                        "text/html": "(1 row affected)"
                    },
                    "metadata": {}
                },
                {
                    "output_type": "display_data",
                    "data": {
                        "text/html": "(1 row affected)"
                    },
                    "metadata": {}
                },
                {
                    "output_type": "display_data",
                    "data": {
                        "text/html": "(1 row affected)"
                    },
                    "metadata": {}
                },
                {
                    "output_type": "display_data",
                    "data": {
                        "text/html": "(1 row affected)"
                    },
                    "metadata": {}
                },
                {
                    "output_type": "display_data",
                    "data": {
                        "text/html": "(1 row affected)"
                    },
                    "metadata": {}
                },
                {
                    "output_type": "display_data",
                    "data": {
                        "text/html": "(1 row affected)"
                    },
                    "metadata": {}
                },
                {
                    "output_type": "display_data",
                    "data": {
                        "text/html": "(1 row affected)"
                    },
                    "metadata": {}
                },
                {
                    "output_type": "display_data",
                    "data": {
                        "text/html": "(1 row affected)"
                    },
                    "metadata": {}
                },
                {
                    "output_type": "display_data",
                    "data": {
                        "text/html": "(1 row affected)"
                    },
                    "metadata": {}
                },
                {
                    "output_type": "display_data",
                    "data": {
                        "text/html": "(1 row affected)"
                    },
                    "metadata": {}
                },
                {
                    "output_type": "display_data",
                    "data": {
                        "text/html": "(1 row affected)"
                    },
                    "metadata": {}
                },
                {
                    "output_type": "display_data",
                    "data": {
                        "text/html": "Total execution time: 00:00:00.065"
                    },
                    "metadata": {}
                }
            ],
            "execution_count": 20
        },
        {
            "cell_type": "markdown",
            "source": [
                "### **Loan Table**\n",
                "\n",
                "The **loan** table will be created differently and will stay empty.  We will use our other tables to populate the loan table using queries shortly.  \n",
                "\n",
                "Use the following code to create the **loan** table:\n",
                "\n",
                "```\n",
                "CREATE TABLE [DB].[schema].loan (\n",
                "    loan_id INT IDENTITY(1,1) PRIMARY KEY,\n",
                "    patron_id INT,\n",
                "    date_out DATE,\n",
                "    date_in DATE,\n",
                "    book_id INT\n",
                "    CONSTRAINT book_id FOREIGN KEY (book_id) REFERENCES [DB].[schema].book (book_id)\n",
                "        ON UPDATE SET NULL\n",
                "        ON DELETE SET NULL\n",
                ");\n",
                "```\n",
                "\n",
                "_Notes about the syntax:_\n",
                "\n",
                "> We are adding a [foreign key](https://www.w3schools.com/sql/sql_foreignkey.asp) to this table to reference a different table's primary key.  In this studio, we are going to link the **loan** table to the **book** table using keys.  The **loan** table will reference and add book id numbers based on the **book** table's book\\_id.  We are also providing [constraints](https://www.w3schools.com/sql/sql_constraints.asp) to be very specific about what type of data is allowed in this column."
            ],
            "metadata": {
                "azdata_cell_guid": "111aa17f-6295-4780-b56a-c580951ba446"
            },
            "attachments": {}
        },
        {
            "cell_type": "code",
            "source": [
                "-- Code the loan table.  \n",
                "-- Note that you will need to update the first and seventh lines with your database and schema info.\n",
                "\n",
                "CREATE TABLE helena.loan (\n",
                "    loan_id INT IDENTITY(1,1) PRIMARY KEY,\n",
                "    patron_id INT,\n",
                "    date_out DATE,\n",
                "    date_in DATE,\n",
                "    book_id INT\n",
                "    CONSTRAINT book_id FOREIGN KEY (book_id) REFERENCES helena.book (book_id)\n",
                "        ON UPDATE SET NULL\n",
                "        ON DELETE SET NULL\n",
                ");"
            ],
            "metadata": {
                "azdata_cell_guid": "0c02072d-832a-44bb-aa28-c8e273cc930a",
                "language": "sql"
            },
            "outputs": [
                {
                    "output_type": "error",
                    "ename": "",
                    "evalue": "Msg 2714, Level 16, State 6, Line 4\r\nThere is already an object named 'loan' in the database.",
                    "traceback": []
                },
                {
                    "output_type": "display_data",
                    "data": {
                        "text/html": "Total execution time: 00:00:00.030"
                    },
                    "metadata": {}
                }
            ],
            "execution_count": 21
        },
        {
            "cell_type": "markdown",
            "source": [
                ""
            ],
            "metadata": {
                "azdata_cell_guid": "7b8490ca-1d4f-4beb-837d-7ef1ee681865"
            },
            "attachments": {}
        },
        {
            "cell_type": "markdown",
            "source": [
                "## **Part B: Warm-Up Queries**\n",
                "\n",
                "Write the following queries to get warmed up and make sure your tables have populated appropriately. \n",
                "\n",
                "1. Return the mystery book titles and their ISBNs.  \n",
                "      \n",
                "    \n",
                "2. Return all of the titles and the author's first and last names for books written by authors who are currently living."
            ],
            "metadata": {
                "azdata_cell_guid": "c52719ab-94f3-4eff-97fa-1f928892ef3b"
            },
            "attachments": {}
        },
        {
            "cell_type": "code",
            "source": [
                "--Code your warm ups here:\r\n",
                "select title, isbn\r\n",
                "from helena.book\r\n",
                "where genre_id = 6;\r\n",
                "\r\n",
                "SELECT b.book_id, b.title\r\n",
                "FROM book b\r\n",
                "INNER JOIN author a ON b.author_id = a.author_id\r\n",
                "WHERE a.death_year IS NULL;"
            ],
            "metadata": {
                "azdata_cell_guid": "95590c74-e772-4e0e-b35d-346409d9d4c0",
                "language": "sql"
            },
            "outputs": [
                {
                    "output_type": "display_data",
                    "data": {
                        "text/html": "(32 rows affected)"
                    },
                    "metadata": {}
                },
                {
                    "output_type": "display_data",
                    "data": {
                        "text/html": "(76 rows affected)"
                    },
                    "metadata": {}
                },
                {
                    "output_type": "display_data",
                    "data": {
                        "text/html": "Total execution time: 00:00:00.077"
                    },
                    "metadata": {}
                },
                {
                    "output_type": "execute_result",
                    "execution_count": 22,
                    "data": {
                        "application/vnd.dataresource+json": {
                            "schema": {
                                "fields": [
                                    {
                                        "name": "title"
                                    },
                                    {
                                        "name": "isbn"
                                    }
                                ]
                            },
                            "data": [
                                {
                                    "title": "And Then There Were None",
                                    "isbn": "335973357"
                                },
                                {
                                    "title": "Still Life",
                                    "isbn": "455128657"
                                },
                                {
                                    "title": "A Fatal Grace",
                                    "isbn": "832517012"
                                },
                                {
                                    "title": "The Cruelest Month",
                                    "isbn": "419285319"
                                },
                                {
                                    "title": "The Murder Stone",
                                    "isbn": "656621400"
                                },
                                {
                                    "title": "The Brutal Telling",
                                    "isbn": "144255852"
                                },
                                {
                                    "title": "Bury Your Dead",
                                    "isbn": "208180961"
                                },
                                {
                                    "title": "A Trick of the Light",
                                    "isbn": "93451531"
                                },
                                {
                                    "title": "And Then There Were None",
                                    "isbn": "335973357"
                                },
                                {
                                    "title": "Still Life",
                                    "isbn": "455128657"
                                },
                                {
                                    "title": "A Fatal Grace",
                                    "isbn": "832517012"
                                },
                                {
                                    "title": "The Cruelest Month",
                                    "isbn": "419285319"
                                },
                                {
                                    "title": "The Murder Stone",
                                    "isbn": "656621400"
                                },
                                {
                                    "title": "The Brutal Telling",
                                    "isbn": "144255852"
                                },
                                {
                                    "title": "Bury Your Dead",
                                    "isbn": "208180961"
                                },
                                {
                                    "title": "A Trick of the Light",
                                    "isbn": "93451531"
                                },
                                {
                                    "title": "And Then There Were None",
                                    "isbn": "335973357"
                                },
                                {
                                    "title": "Still Life",
                                    "isbn": "455128657"
                                },
                                {
                                    "title": "A Fatal Grace",
                                    "isbn": "832517012"
                                },
                                {
                                    "title": "The Cruelest Month",
                                    "isbn": "419285319"
                                },
                                {
                                    "title": "The Murder Stone",
                                    "isbn": "656621400"
                                },
                                {
                                    "title": "The Brutal Telling",
                                    "isbn": "144255852"
                                },
                                {
                                    "title": "Bury Your Dead",
                                    "isbn": "208180961"
                                },
                                {
                                    "title": "A Trick of the Light",
                                    "isbn": "93451531"
                                },
                                {
                                    "title": "And Then There Were None",
                                    "isbn": "335973357"
                                },
                                {
                                    "title": "Still Life",
                                    "isbn": "455128657"
                                },
                                {
                                    "title": "A Fatal Grace",
                                    "isbn": "832517012"
                                },
                                {
                                    "title": "The Cruelest Month",
                                    "isbn": "419285319"
                                },
                                {
                                    "title": "The Murder Stone",
                                    "isbn": "656621400"
                                },
                                {
                                    "title": "The Brutal Telling",
                                    "isbn": "144255852"
                                },
                                {
                                    "title": "Bury Your Dead",
                                    "isbn": "208180961"
                                },
                                {
                                    "title": "A Trick of the Light",
                                    "isbn": "93451531"
                                }
                            ]
                        },
                        "text/html": "<table><tr><th>title</th><th>isbn</th></tr><tr><td>And Then There Were None</td><td>335973357</td></tr><tr><td>Still Life</td><td>455128657</td></tr><tr><td>A Fatal Grace</td><td>832517012</td></tr><tr><td>The Cruelest Month</td><td>419285319</td></tr><tr><td>The Murder Stone</td><td>656621400</td></tr><tr><td>The Brutal Telling</td><td>144255852</td></tr><tr><td>Bury Your Dead</td><td>208180961</td></tr><tr><td>A Trick of the Light</td><td>93451531</td></tr><tr><td>And Then There Were None</td><td>335973357</td></tr><tr><td>Still Life</td><td>455128657</td></tr><tr><td>A Fatal Grace</td><td>832517012</td></tr><tr><td>The Cruelest Month</td><td>419285319</td></tr><tr><td>The Murder Stone</td><td>656621400</td></tr><tr><td>The Brutal Telling</td><td>144255852</td></tr><tr><td>Bury Your Dead</td><td>208180961</td></tr><tr><td>A Trick of the Light</td><td>93451531</td></tr><tr><td>And Then There Were None</td><td>335973357</td></tr><tr><td>Still Life</td><td>455128657</td></tr><tr><td>A Fatal Grace</td><td>832517012</td></tr><tr><td>The Cruelest Month</td><td>419285319</td></tr><tr><td>The Murder Stone</td><td>656621400</td></tr><tr><td>The Brutal Telling</td><td>144255852</td></tr><tr><td>Bury Your Dead</td><td>208180961</td></tr><tr><td>A Trick of the Light</td><td>93451531</td></tr><tr><td>And Then There Were None</td><td>335973357</td></tr><tr><td>Still Life</td><td>455128657</td></tr><tr><td>A Fatal Grace</td><td>832517012</td></tr><tr><td>The Cruelest Month</td><td>419285319</td></tr><tr><td>The Murder Stone</td><td>656621400</td></tr><tr><td>The Brutal Telling</td><td>144255852</td></tr><tr><td>Bury Your Dead</td><td>208180961</td></tr><tr><td>A Trick of the Light</td><td>93451531</td></tr></table>"
                    },
                    "metadata": {}
                },
                {
                    "output_type": "execute_result",
                    "execution_count": 22,
                    "data": {
                        "application/vnd.dataresource+json": {
                            "schema": {
                                "fields": [
                                    {
                                        "name": "book_id"
                                    },
                                    {
                                        "name": "title"
                                    }
                                ]
                            },
                            "data": [
                                {
                                    "book_id": "3",
                                    "title": "The Golden Compass"
                                },
                                {
                                    "book_id": "4",
                                    "title": "The Subtle Knife"
                                },
                                {
                                    "book_id": "5",
                                    "title": "The Amber Spyglass"
                                },
                                {
                                    "book_id": "38",
                                    "title": "The Golden Compass"
                                },
                                {
                                    "book_id": "39",
                                    "title": "The Subtle Knife"
                                },
                                {
                                    "book_id": "40",
                                    "title": "The Amber Spyglass"
                                },
                                {
                                    "book_id": "73",
                                    "title": "The Golden Compass"
                                },
                                {
                                    "book_id": "74",
                                    "title": "The Subtle Knife"
                                },
                                {
                                    "book_id": "75",
                                    "title": "The Amber Spyglass"
                                },
                                {
                                    "book_id": "108",
                                    "title": "The Golden Compass"
                                },
                                {
                                    "book_id": "109",
                                    "title": "The Subtle Knife"
                                },
                                {
                                    "book_id": "110",
                                    "title": "The Amber Spyglass"
                                },
                                {
                                    "book_id": "111",
                                    "title": "The Alchemist"
                                },
                                {
                                    "book_id": "76",
                                    "title": "The Alchemist"
                                },
                                {
                                    "book_id": "41",
                                    "title": "The Alchemist"
                                },
                                {
                                    "book_id": "6",
                                    "title": "The Alchemist"
                                },
                                {
                                    "book_id": "113",
                                    "title": "The Joy Luck Club"
                                },
                                {
                                    "book_id": "114",
                                    "title": "The Moon Lady"
                                },
                                {
                                    "book_id": "78",
                                    "title": "The Joy Luck Club"
                                },
                                {
                                    "book_id": "79",
                                    "title": "The Moon Lady"
                                },
                                {
                                    "book_id": "43",
                                    "title": "The Joy Luck Club"
                                },
                                {
                                    "book_id": "44",
                                    "title": "The Moon Lady"
                                },
                                {
                                    "book_id": "8",
                                    "title": "The Joy Luck Club"
                                },
                                {
                                    "book_id": "9",
                                    "title": "The Moon Lady"
                                },
                                {
                                    "book_id": "18",
                                    "title": "The Handmaids Tale"
                                },
                                {
                                    "book_id": "19",
                                    "title": "The Testaments"
                                },
                                {
                                    "book_id": "53",
                                    "title": "The Handmaids Tale"
                                },
                                {
                                    "book_id": "54",
                                    "title": "The Testaments"
                                },
                                {
                                    "book_id": "88",
                                    "title": "The Handmaids Tale"
                                },
                                {
                                    "book_id": "89",
                                    "title": "The Testaments"
                                },
                                {
                                    "book_id": "123",
                                    "title": "The Handmaids Tale"
                                },
                                {
                                    "book_id": "124",
                                    "title": "The Testaments"
                                },
                                {
                                    "book_id": "127",
                                    "title": "Still Life"
                                },
                                {
                                    "book_id": "128",
                                    "title": "A Fatal Grace"
                                },
                                {
                                    "book_id": "129",
                                    "title": "The Cruelest Month"
                                },
                                {
                                    "book_id": "130",
                                    "title": "The Murder Stone"
                                },
                                {
                                    "book_id": "131",
                                    "title": "The Brutal Telling"
                                },
                                {
                                    "book_id": "132",
                                    "title": "Bury Your Dead"
                                },
                                {
                                    "book_id": "133",
                                    "title": "A Trick of the Light"
                                },
                                {
                                    "book_id": "92",
                                    "title": "Still Life"
                                },
                                {
                                    "book_id": "93",
                                    "title": "A Fatal Grace"
                                },
                                {
                                    "book_id": "94",
                                    "title": "The Cruelest Month"
                                },
                                {
                                    "book_id": "95",
                                    "title": "The Murder Stone"
                                },
                                {
                                    "book_id": "96",
                                    "title": "The Brutal Telling"
                                },
                                {
                                    "book_id": "97",
                                    "title": "Bury Your Dead"
                                },
                                {
                                    "book_id": "98",
                                    "title": "A Trick of the Light"
                                },
                                {
                                    "book_id": "57",
                                    "title": "Still Life"
                                },
                                {
                                    "book_id": "58",
                                    "title": "A Fatal Grace"
                                },
                                {
                                    "book_id": "59",
                                    "title": "The Cruelest Month"
                                },
                                {
                                    "book_id": "60",
                                    "title": "The Murder Stone"
                                },
                                {
                                    "book_id": "61",
                                    "title": "The Brutal Telling"
                                },
                                {
                                    "book_id": "62",
                                    "title": "Bury Your Dead"
                                },
                                {
                                    "book_id": "63",
                                    "title": "A Trick of the Light"
                                },
                                {
                                    "book_id": "22",
                                    "title": "Still Life"
                                },
                                {
                                    "book_id": "23",
                                    "title": "A Fatal Grace"
                                },
                                {
                                    "book_id": "24",
                                    "title": "The Cruelest Month"
                                },
                                {
                                    "book_id": "25",
                                    "title": "The Murder Stone"
                                },
                                {
                                    "book_id": "26",
                                    "title": "The Brutal Telling"
                                },
                                {
                                    "book_id": "27",
                                    "title": "Bury Your Dead"
                                },
                                {
                                    "book_id": "28",
                                    "title": "A Trick of the Light"
                                },
                                {
                                    "book_id": "29",
                                    "title": "Midnights Children"
                                },
                                {
                                    "book_id": "64",
                                    "title": "Midnights Children"
                                },
                                {
                                    "book_id": "99",
                                    "title": "Midnights Children"
                                },
                                {
                                    "book_id": "134",
                                    "title": "Midnights Children"
                                },
                                {
                                    "book_id": "135",
                                    "title": "Dont Let the Pigeon Drive the Bus!"
                                },
                                {
                                    "book_id": "100",
                                    "title": "Dont Let the Pigeon Drive the Bus!"
                                },
                                {
                                    "book_id": "65",
                                    "title": "Dont Let the Pigeon Drive the Bus!"
                                },
                                {
                                    "book_id": "30",
                                    "title": "Dont Let the Pigeon Drive the Bus!"
                                },
                                {
                                    "book_id": "31",
                                    "title": "Beezus and Ramona"
                                },
                                {
                                    "book_id": "66",
                                    "title": "Beezus and Ramona"
                                },
                                {
                                    "book_id": "101",
                                    "title": "Beezus and Ramona"
                                },
                                {
                                    "book_id": "136",
                                    "title": "Beezus and Ramona"
                                },
                                {
                                    "book_id": "137",
                                    "title": "Organic Chemistry"
                                },
                                {
                                    "book_id": "102",
                                    "title": "Organic Chemistry"
                                },
                                {
                                    "book_id": "67",
                                    "title": "Organic Chemistry"
                                },
                                {
                                    "book_id": "32",
                                    "title": "Organic Chemistry"
                                }
                            ]
                        },
                        "text/html": "<table><tr><th>book_id</th><th>title</th></tr><tr><td>3</td><td>The Golden Compass</td></tr><tr><td>4</td><td>The Subtle Knife</td></tr><tr><td>5</td><td>The Amber Spyglass</td></tr><tr><td>38</td><td>The Golden Compass</td></tr><tr><td>39</td><td>The Subtle Knife</td></tr><tr><td>40</td><td>The Amber Spyglass</td></tr><tr><td>73</td><td>The Golden Compass</td></tr><tr><td>74</td><td>The Subtle Knife</td></tr><tr><td>75</td><td>The Amber Spyglass</td></tr><tr><td>108</td><td>The Golden Compass</td></tr><tr><td>109</td><td>The Subtle Knife</td></tr><tr><td>110</td><td>The Amber Spyglass</td></tr><tr><td>111</td><td>The Alchemist</td></tr><tr><td>76</td><td>The Alchemist</td></tr><tr><td>41</td><td>The Alchemist</td></tr><tr><td>6</td><td>The Alchemist</td></tr><tr><td>113</td><td>The Joy Luck Club</td></tr><tr><td>114</td><td>The Moon Lady</td></tr><tr><td>78</td><td>The Joy Luck Club</td></tr><tr><td>79</td><td>The Moon Lady</td></tr><tr><td>43</td><td>The Joy Luck Club</td></tr><tr><td>44</td><td>The Moon Lady</td></tr><tr><td>8</td><td>The Joy Luck Club</td></tr><tr><td>9</td><td>The Moon Lady</td></tr><tr><td>18</td><td>The Handmaids Tale</td></tr><tr><td>19</td><td>The Testaments</td></tr><tr><td>53</td><td>The Handmaids Tale</td></tr><tr><td>54</td><td>The Testaments</td></tr><tr><td>88</td><td>The Handmaids Tale</td></tr><tr><td>89</td><td>The Testaments</td></tr><tr><td>123</td><td>The Handmaids Tale</td></tr><tr><td>124</td><td>The Testaments</td></tr><tr><td>127</td><td>Still Life</td></tr><tr><td>128</td><td>A Fatal Grace</td></tr><tr><td>129</td><td>The Cruelest Month</td></tr><tr><td>130</td><td>The Murder Stone</td></tr><tr><td>131</td><td>The Brutal Telling</td></tr><tr><td>132</td><td>Bury Your Dead</td></tr><tr><td>133</td><td>A Trick of the Light</td></tr><tr><td>92</td><td>Still Life</td></tr><tr><td>93</td><td>A Fatal Grace</td></tr><tr><td>94</td><td>The Cruelest Month</td></tr><tr><td>95</td><td>The Murder Stone</td></tr><tr><td>96</td><td>The Brutal Telling</td></tr><tr><td>97</td><td>Bury Your Dead</td></tr><tr><td>98</td><td>A Trick of the Light</td></tr><tr><td>57</td><td>Still Life</td></tr><tr><td>58</td><td>A Fatal Grace</td></tr><tr><td>59</td><td>The Cruelest Month</td></tr><tr><td>60</td><td>The Murder Stone</td></tr><tr><td>61</td><td>The Brutal Telling</td></tr><tr><td>62</td><td>Bury Your Dead</td></tr><tr><td>63</td><td>A Trick of the Light</td></tr><tr><td>22</td><td>Still Life</td></tr><tr><td>23</td><td>A Fatal Grace</td></tr><tr><td>24</td><td>The Cruelest Month</td></tr><tr><td>25</td><td>The Murder Stone</td></tr><tr><td>26</td><td>The Brutal Telling</td></tr><tr><td>27</td><td>Bury Your Dead</td></tr><tr><td>28</td><td>A Trick of the Light</td></tr><tr><td>29</td><td>Midnights Children</td></tr><tr><td>64</td><td>Midnights Children</td></tr><tr><td>99</td><td>Midnights Children</td></tr><tr><td>134</td><td>Midnights Children</td></tr><tr><td>135</td><td>Dont Let the Pigeon Drive the Bus!</td></tr><tr><td>100</td><td>Dont Let the Pigeon Drive the Bus!</td></tr><tr><td>65</td><td>Dont Let the Pigeon Drive the Bus!</td></tr><tr><td>30</td><td>Dont Let the Pigeon Drive the Bus!</td></tr><tr><td>31</td><td>Beezus and Ramona</td></tr><tr><td>66</td><td>Beezus and Ramona</td></tr><tr><td>101</td><td>Beezus and Ramona</td></tr><tr><td>136</td><td>Beezus and Ramona</td></tr><tr><td>137</td><td>Organic Chemistry</td></tr><tr><td>102</td><td>Organic Chemistry</td></tr><tr><td>67</td><td>Organic Chemistry</td></tr><tr><td>32</td><td>Organic Chemistry</td></tr></table>"
                    },
                    "metadata": {}
                }
            ],
            "execution_count": 22
        },
        {
            "cell_type": "markdown",
            "source": [
                "## **Part C: Loan Out a Book**\n",
                "\n",
                "The library would like you to create a query that will update the database when a book is loaned out.  \n",
                "\n",
                "This query needs to perform the following functions:\n",
                "\n",
                "1. Change **available** to **0** (false) for the appropriate book.\n",
                "    \n",
                "2. Add a new row to the **loan** table with today's date as the **date\\_out** and the ids in the row matching the appropriate **patron\\_id** and **book\\_id**.\n",
                "    \n",
                "3. Update the appropriate **patron** with the **loan\\_id** for the new row created in the **loan** table.\n",
                "    \n",
                "\n",
                "You can use any patron and book that strikes your fancy to create and test out this query.'\n",
                "\n",
                "> _Note:  Every time you test this, you will add an additional row to the output, creating a new loan id each time.  If you do not update the patron id, then a patron will have multiple loan ids.  This is not an issue for Part C;_ _however, this may cause issues when you work on Part F._"
            ],
            "metadata": {
                "azdata_cell_guid": "89fcab58-413b-4a19-99f2-6c3a7f880f9f"
            },
            "attachments": {}
        },
        {
            "cell_type": "code",
            "source": [
                "-- WORKED ON IN CLASS 8/29/2023\r\n",
                "\r\n",
                "UPDATE helena.book\r\n",
                "SET available = 0\r\n",
                "WHERE book_id = 10;\r\n",
                "\r\n",
                "SELECT * FROM helena.patron where patron_id = 5"
            ],
            "metadata": {
                "language": "sql",
                "azdata_cell_guid": "dabfb99e-badc-452d-b851-2020327b9cb7"
            },
            "outputs": [
                {
                    "output_type": "error",
                    "evalue": "Msg 208, Level 16, State 1, Line 3\r\nInvalid object name 'helena.book'.",
                    "ename": "",
                    "traceback": []
                },
                {
                    "output_type": "display_data",
                    "data": {
                        "text/html": "Total execution time: 00:00:00.051"
                    },
                    "metadata": {}
                }
            ],
            "execution_count": 1
        },
        {
            "cell_type": "code",
            "source": [
                "UPDATE helena.book\r\n",
                "SET available = 1\r\n",
                "WHERE book_id = 2;\r\n",
                "\r\n",
                "SELECT top 2 *\r\n",
                "FROM helena.book;\r\n",
                "\r\n",
                "-- this is showing the book with id 2 is not available - available 2 is false\r\n",
                "-- establishing the book as checked out"
            ],
            "metadata": {
                "azdata_cell_guid": "372104fd-303e-4be3-8b85-d4e4902fe9d9",
                "language": "sql",
                "tags": []
            },
            "outputs": [
                {
                    "output_type": "display_data",
                    "data": {
                        "text/html": "(1 row affected)"
                    },
                    "metadata": {}
                },
                {
                    "output_type": "display_data",
                    "data": {
                        "text/html": "(2 rows affected)"
                    },
                    "metadata": {}
                },
                {
                    "output_type": "display_data",
                    "data": {
                        "text/html": "Total execution time: 00:00:00.038"
                    },
                    "metadata": {}
                },
                {
                    "output_type": "execute_result",
                    "execution_count": 19,
                    "data": {
                        "application/vnd.dataresource+json": {
                            "schema": {
                                "fields": [
                                    {
                                        "name": "book_id"
                                    },
                                    {
                                        "name": "author_id"
                                    },
                                    {
                                        "name": "title"
                                    },
                                    {
                                        "name": "isbn"
                                    },
                                    {
                                        "name": "available"
                                    },
                                    {
                                        "name": "genre_id"
                                    }
                                ]
                            },
                            "data": [
                                {
                                    "book_id": "1",
                                    "author_id": "2",
                                    "title": "A Midsummers Night Dream",
                                    "isbn": "978149413",
                                    "available": "0",
                                    "genre_id": "23"
                                },
                                {
                                    "book_id": "2",
                                    "author_id": "2",
                                    "title": "Romeo and Juliet",
                                    "isbn": "988535196",
                                    "available": "1",
                                    "genre_id": "3"
                                }
                            ]
                        },
                        "text/html": "<table><tr><th>book_id</th><th>author_id</th><th>title</th><th>isbn</th><th>available</th><th>genre_id</th></tr><tr><td>1</td><td>2</td><td>A Midsummers Night Dream</td><td>978149413</td><td>0</td><td>23</td></tr><tr><td>2</td><td>2</td><td>Romeo and Juliet</td><td>988535196</td><td>1</td><td>3</td></tr></table>"
                    },
                    "metadata": {}
                }
            ],
            "execution_count": 19
        },
        {
            "cell_type": "code",
            "source": [
                "SELECT top 2 *\r\n",
                "FROM helena.loan;\r\n",
                "\r\n",
                "INSERT INTO helena.loan (patron_id, book_id, date_out)\r\n",
                "VALUES (1, 2, GETDATE());\r\n",
                "\r\n",
                "SELECT top 2 *\r\n",
                "FROM helena.loan;\r\n",
                "\r\n",
                "SELECT top 2 *\r\n",
                "FROM helena.patron;\r\n",
                "\r\n",
                "UPDATE helena.patron\r\n",
                "SET loan_id = (SELECT MAX(loan_id) FROM loan)\r\n",
                "WHERE patron_id = 1;\r\n",
                "\r\n",
                "SELECT top 2 *\r\n",
                "FROM helena.patron;\r\n",
                ""
            ],
            "metadata": {
                "language": "sql",
                "azdata_cell_guid": "341d36ee-242c-4e56-ba87-1aeffa071a50"
            },
            "outputs": [
                {
                    "output_type": "display_data",
                    "data": {
                        "text/html": "(2 rows affected)"
                    },
                    "metadata": {}
                },
                {
                    "output_type": "display_data",
                    "data": {
                        "text/html": "(1 row affected)"
                    },
                    "metadata": {}
                },
                {
                    "output_type": "display_data",
                    "data": {
                        "text/html": "(2 rows affected)"
                    },
                    "metadata": {}
                },
                {
                    "output_type": "display_data",
                    "data": {
                        "text/html": "(2 rows affected)"
                    },
                    "metadata": {}
                },
                {
                    "output_type": "display_data",
                    "data": {
                        "text/html": "(1 row affected)"
                    },
                    "metadata": {}
                },
                {
                    "output_type": "display_data",
                    "data": {
                        "text/html": "(2 rows affected)"
                    },
                    "metadata": {}
                },
                {
                    "output_type": "display_data",
                    "data": {
                        "text/html": "Total execution time: 00:00:00.071"
                    },
                    "metadata": {}
                },
                {
                    "output_type": "execute_result",
                    "execution_count": 29,
                    "data": {
                        "application/vnd.dataresource+json": {
                            "schema": {
                                "fields": [
                                    {
                                        "name": "loan_id"
                                    },
                                    {
                                        "name": "patron_id"
                                    },
                                    {
                                        "name": "date_out"
                                    },
                                    {
                                        "name": "date_in"
                                    },
                                    {
                                        "name": "book_id"
                                    }
                                ]
                            },
                            "data": [
                                {
                                    "loan_id": "2",
                                    "patron_id": "1",
                                    "date_out": "2023-08-23",
                                    "date_in": "NULL",
                                    "book_id": "2"
                                },
                                {
                                    "loan_id": "3",
                                    "patron_id": "1",
                                    "date_out": "2023-08-23",
                                    "date_in": "NULL",
                                    "book_id": "2"
                                }
                            ]
                        },
                        "text/html": "<table><tr><th>loan_id</th><th>patron_id</th><th>date_out</th><th>date_in</th><th>book_id</th></tr><tr><td>2</td><td>1</td><td>2023-08-23</td><td>NULL</td><td>2</td></tr><tr><td>3</td><td>1</td><td>2023-08-23</td><td>NULL</td><td>2</td></tr></table>"
                    },
                    "metadata": {}
                },
                {
                    "output_type": "execute_result",
                    "execution_count": 29,
                    "data": {
                        "application/vnd.dataresource+json": {
                            "schema": {
                                "fields": [
                                    {
                                        "name": "loan_id"
                                    },
                                    {
                                        "name": "patron_id"
                                    },
                                    {
                                        "name": "date_out"
                                    },
                                    {
                                        "name": "date_in"
                                    },
                                    {
                                        "name": "book_id"
                                    }
                                ]
                            },
                            "data": [
                                {
                                    "loan_id": "2",
                                    "patron_id": "1",
                                    "date_out": "2023-08-23",
                                    "date_in": "NULL",
                                    "book_id": "2"
                                },
                                {
                                    "loan_id": "3",
                                    "patron_id": "1",
                                    "date_out": "2023-08-23",
                                    "date_in": "NULL",
                                    "book_id": "2"
                                }
                            ]
                        },
                        "text/html": "<table><tr><th>loan_id</th><th>patron_id</th><th>date_out</th><th>date_in</th><th>book_id</th></tr><tr><td>2</td><td>1</td><td>2023-08-23</td><td>NULL</td><td>2</td></tr><tr><td>3</td><td>1</td><td>2023-08-23</td><td>NULL</td><td>2</td></tr></table>"
                    },
                    "metadata": {}
                },
                {
                    "output_type": "execute_result",
                    "execution_count": 29,
                    "data": {
                        "application/vnd.dataresource+json": {
                            "schema": {
                                "fields": [
                                    {
                                        "name": "patron_id"
                                    },
                                    {
                                        "name": "first_name"
                                    },
                                    {
                                        "name": "last_name"
                                    },
                                    {
                                        "name": "loan_id"
                                    }
                                ]
                            },
                            "data": [
                                {
                                    "patron_id": "1",
                                    "first_name": "Jennifer",
                                    "last_name": "Slayny",
                                    "loan_id": "NULL"
                                },
                                {
                                    "patron_id": "2",
                                    "first_name": "Susan",
                                    "last_name": "Traviss",
                                    "loan_id": "5"
                                }
                            ]
                        },
                        "text/html": "<table><tr><th>patron_id</th><th>first_name</th><th>last_name</th><th>loan_id</th></tr><tr><td>1</td><td>Jennifer</td><td>Slayny</td><td>NULL</td></tr><tr><td>2</td><td>Susan</td><td>Traviss</td><td>5</td></tr></table>"
                    },
                    "metadata": {}
                },
                {
                    "output_type": "execute_result",
                    "execution_count": 29,
                    "data": {
                        "application/vnd.dataresource+json": {
                            "schema": {
                                "fields": [
                                    {
                                        "name": "patron_id"
                                    },
                                    {
                                        "name": "first_name"
                                    },
                                    {
                                        "name": "last_name"
                                    },
                                    {
                                        "name": "loan_id"
                                    }
                                ]
                            },
                            "data": [
                                {
                                    "patron_id": "1",
                                    "first_name": "Jennifer",
                                    "last_name": "Slayny",
                                    "loan_id": "6"
                                },
                                {
                                    "patron_id": "2",
                                    "first_name": "Susan",
                                    "last_name": "Traviss",
                                    "loan_id": "5"
                                }
                            ]
                        },
                        "text/html": "<table><tr><th>patron_id</th><th>first_name</th><th>last_name</th><th>loan_id</th></tr><tr><td>1</td><td>Jennifer</td><td>Slayny</td><td>6</td></tr><tr><td>2</td><td>Susan</td><td>Traviss</td><td>5</td></tr></table>"
                    },
                    "metadata": {}
                }
            ],
            "execution_count": 29
        },
        {
            "cell_type": "markdown",
            "source": [
                "## **Part D: Check a Book Back In**\n",
                "\n",
                "Work with the same patron and book as you create your query to check a book back into the library.\n",
                "\n",
                "The check a book back in, your query need to do the following:\n",
                "\n",
                "1. Change **available** to **1** (true) for the appropriate book.\n",
                "    \n",
                "2. Update the appropriate row in the **loan** table with today's date as the **date\\_in**.\n",
                "    \n",
                "3. Update the appropriate **patron** changing **loan\\_id** back to **NULL**.\n",
                "    \n",
                "\n",
                "Once you have created these queries, loan out 5 new books to 5 different patrons."
            ],
            "metadata": {
                "azdata_cell_guid": "21923b69-f92c-4f86-af0a-230df894c696"
            },
            "attachments": {}
        },
        {
            "cell_type": "code",
            "source": [
                "-- Create your Check a Book Back In query:\n",
                "\n",
                "-- this is not finished - it is very hot out, my brain is not braining very well\n",
                "/*\n",
                "UPDATE helena.book\n",
                "SET available = 0\n",
                "WHERE book_id = 2;\n",
                "\n",
                "INSERT INTO helena.loan (date_in)\n",
                "VALUES (GETDATE())\n",
                "WHERE loan_id = (SELECT loan_id FROM helena.loan WHERE book_id = 2 AND patron_id = 2);\n",
                "\n",
                "UPDATE helena.patron\n",
                "SET loan_id = (SELECT loan_id FROM helena.loan WHERE book_id = 2 AND patron_id = 2)\n",
                "WHERE patron_id = 2;\n",
                "\n",
                "SELECT top 2 *\n",
                "from helena.book;\n",
                "\n",
                "SELECT top 20 *\n",
                "from helena.loan;\n",
                "\n",
                "SELECT top 20 *\n",
                "from helena.patron;\n",
                "*/\n",
                "\n",
                "UPDATE helena.book(available)\n",
                "SET available = 0\n",
                "WHERE helena.loan(book_id) = helena.book(book_id)\n",
                "\n",
                "INSERT INTO helena.loan(date_out, patron_id, book_id)\n",
                "VALUES(GETDATE())\n",
                ""
            ],
            "metadata": {
                "azdata_cell_guid": "80a81994-48b8-4b9e-a09c-5124e3fc85b2",
                "language": "sql"
            },
            "outputs": [
                {
                    "output_type": "error",
                    "ename": "",
                    "evalue": "Msg 102, Level 15, State 31, Line 27\r\nIncorrect syntax near '('.",
                    "traceback": []
                },
                {
                    "output_type": "display_data",
                    "data": {
                        "text/html": "Total execution time: 00:00:00.030"
                    },
                    "metadata": {}
                }
            ],
            "execution_count": 36
        },
        {
            "cell_type": "markdown",
            "source": [
                "## **Part E: Create a temp table**\n",
                "\n",
                "Write a query that returns a temporary table for a patron that shows them all of their loans.\n",
                "\n",
                "_Question to think about:_  Why might a temp table be a good option for this type of query?"
            ],
            "metadata": {
                "azdata_cell_guid": "66e2b5be-ddbf-44db-a903-2c2f08db02d3"
            },
            "attachments": {}
        },
        {
            "cell_type": "code",
            "source": [
                "-- Code your temp table here\r\n",
                "\r\n",
                "CREATE TABLE #patron_loans (\r\n",
                "  book_id INT,\r\n",
                "  title VARCHAR(255),\r\n",
                "  author VARCHAR(255),\r\n",
                "  date_out DATE,\r\n",
                "  date_in DATE\r\n",
                ");\r\n",
                "\r\n",
                "INSERT INTO #patron_loans\r\n",
                "SELECT b.book_id, b.title, b.author_id, l.date_out, l.date_in\r\n",
                "FROM loan l\r\n",
                "INNER JOIN book b ON l.book_id = b.book_id\r\n",
                "WHERE l.patron_id = 12345;\r\n",
                "\r\n",
                "SELECT * FROM #patron_loans;"
            ],
            "metadata": {
                "azdata_cell_guid": "0977ab8b-f0dd-42e5-aed8-79b511dda8bc",
                "language": "sql"
            },
            "outputs": [
                {
                    "output_type": "display_data",
                    "data": {
                        "text/html": "(0 rows affected)"
                    },
                    "metadata": {}
                },
                {
                    "output_type": "display_data",
                    "data": {
                        "text/html": "(0 rows affected)"
                    },
                    "metadata": {}
                },
                {
                    "output_type": "display_data",
                    "data": {
                        "text/html": "Total execution time: 00:00:00.075"
                    },
                    "metadata": {}
                },
                {
                    "output_type": "execute_result",
                    "execution_count": 34,
                    "data": {
                        "application/vnd.dataresource+json": {
                            "schema": {
                                "fields": [
                                    {
                                        "name": "book_id"
                                    },
                                    {
                                        "name": "title"
                                    },
                                    {
                                        "name": "author"
                                    },
                                    {
                                        "name": "date_out"
                                    },
                                    {
                                        "name": "date_in"
                                    }
                                ]
                            },
                            "data": []
                        },
                        "text/html": "<table><tr><th>book_id</th><th>title</th><th>author</th><th>date_out</th><th>date_in</th></tr></table>"
                    },
                    "metadata": {}
                }
            ],
            "execution_count": 34
        },
        {
            "cell_type": "markdown",
            "source": [
                "## **Part F: Wrap-up Query**\n",
                "\n",
                "Create a query that returns the names of the patrons with the genre of every book they currently have checked out.\n",
                "\n",
                "Things to consider:  How are these tables related and connected to each other?\n",
                "\n",
                "> _Note:  If you find a NULL in your output instead of a loan id,   this is likely because there are multiple loans per patron.  Try_ _clearing out the loan table.  You can do this by either dropping the entire table or clearing specific rows._"
            ],
            "metadata": {
                "azdata_cell_guid": "9e29f561-1501-45ac-b6cf-f2136fe5097f"
            },
            "attachments": {}
        },
        {
            "cell_type": "code",
            "source": [
                "-- Create your Wrap-Up query here:"
            ],
            "metadata": {
                "azdata_cell_guid": "c568e7c2-283b-43ab-bf66-8982117c181b",
                "language": "sql"
            },
            "outputs": [
                {
                    "output_type": "display_data",
                    "data": {
                        "text/html": "Commands completed successfully."
                    },
                    "metadata": {}
                },
                {
                    "output_type": "display_data",
                    "data": {
                        "text/html": "Total execution time: 00:00:00.029"
                    },
                    "metadata": {}
                }
            ],
            "execution_count": 15
        },
        {
            "cell_type": "markdown",
            "source": [
                "## **Bonus Challenge:**\n",
                "\n",
                "This is an optional challenge.\n",
                "\n",
                "Create a new table for reference materials using the following code:\n",
                "\n",
                "```\n",
                "CREATE TABLE [DB].[schema].reference_books (\n",
                "    reference_id INT IDENTITY(1,1) PRIMARY KEY,\n",
                "    edition INT,\n",
                "    book_id INT,\n",
                "    book_id INT FOREIGN KEY REFERENCES [DB].[schema].book(book_id)\n",
                "        ON UPDATE SET NULL\n",
                "        ON DELETE SET NULL\n",
                ");\n",
                "```\n",
                "\n",
                "Fill the table with the following query:\n",
                "\n",
                "```\n",
                "INSERT INTO [DB].[schema].reference_books (edition, book_id)\n",
                "VALUE (5,32);\n",
                "```"
            ],
            "metadata": {
                "azdata_cell_guid": "863f5070-2fd7-4dfa-aaf8-dfc148362cec"
            },
            "attachments": {}
        },
        {
            "cell_type": "code",
            "source": [
                "-- Create and fill your reference table here:\n",
                ""
            ],
            "metadata": {
                "azdata_cell_guid": "b7699c0f-e06b-429b-bd94-9cca18968797",
                "language": "sql"
            },
            "outputs": [
                {
                    "output_type": "display_data",
                    "data": {
                        "text/html": "Commands completed successfully."
                    },
                    "metadata": {}
                },
                {
                    "output_type": "display_data",
                    "data": {
                        "text/html": "Total execution time: 00:00:00.028"
                    },
                    "metadata": {}
                }
            ],
            "execution_count": 16
        },
        {
            "cell_type": "markdown",
            "source": [
                "<span style=\"font-size: 14px; font-family: -apple-system, BlinkMacSystemFont, sans-serif;\">A reference book cannot leave the library.&nbsp; How would you modify either the <b>reference_book</b> table or the <b>book</b> table to make sure that doesn't happen?&nbsp; Try to apply your modifications.</span>"
            ],
            "metadata": {
                "azdata_cell_guid": "e647d002-c3ae-415c-9fb3-c2e8c7e5ec7f"
            },
            "attachments": {}
        },
        {
            "cell_type": "code",
            "source": [
                "-- Code your query here:\r\n",
                "\r\n",
                "-- code from class\r\n",
                "\r\n",
                "/* Let's think through the request and how it relates to the data.\r\n",
                "\r\n",
                "We can modify either reference_books or book. What data in those tables might be useful? */\r\n",
                "\r\n",
                "SELECT TOP 1 * FROM helena.reference_books;\r\n",
                "SELECT TOP 1 * FROM helena.book;\r\n",
                "\r\n",
                "/* It might be valuable to consider how we determine if a book is available to check out.\r\n",
                "We know that the column \"available\" in the book table lets us know if a book is available or not.\r\n",
                "If a checked-out book shows up in the system as \"not available\", maybe we could mark all\r\n",
                "reference books as checked out so they show up as unavailable. */\r\n",
                "\r\n",
                "/* reference_books lists the book ids of all reference books in the library, \r\n",
                "so maybe getting those book ids would be a good place to start. */\r\n",
                "\r\n",
                "SELECT book_id FROM helena.reference_books;\r\n",
                "\r\n",
                "/* Since the \"available\" column is on the book table, lets subquery the book table\r\n",
                "using the data from the referenc_books query */\r\n",
                "\r\n",
                "SELECT * FROM helena.book\r\n",
                "WHERE book_id in (\r\n",
                "    SELECT book_id FROM helena.reference_books\r\n",
                "    );\r\n",
                "\r\n",
                "/* Now we have our data, let's update the \"available\" column to 1 to show that the\r\n",
                "reference books are unavailable! */\r\n",
                "\r\n",
                "UPDATE helena.book \r\n",
                "SET available = 1\r\n",
                "WHERE book_id in (\r\n",
                "    SELECT book_id FROM helena.reference_books\r\n",
                "    );\r\n",
                "\r\n",
                "/* Let's check our work! */\r\n",
                "\r\n",
                "SELECT * FROM helena.book\r\n",
                "WHERE book_id in (\r\n",
                "    SELECT book_id FROM helena.reference_books\r\n",
                "    );\r\n",
                "\r\n",
                "/* Here's another method using CASE, which we haven't covered in class! \r\n",
                "Read more about CASE here: https://learnsql.com/blog/case-in-sql/ \r\n",
                "\r\n",
                "CASE works kind of like an IF/ELSE statement in Python.*/\r\n",
                "\r\n",
                "UPDATE helena.book\r\n",
                "SET available = CASE -- we're updating the \"available\" column in helena.book\r\n",
                "    WHEN genre_id IN ( -- WHEN acts like IF; here, we're saying \"if genre_id...\"\r\n",
                "        SELECT genre_id from helena.genre WHERE genres = 'Reference' ) --\"is in the list of genre id's generated by this subquery...\"\r\n",
                "    THEN 1 -- THEN is the value if the statement evaluates to TRUE\r\n",
                "    ELSE 0 -- ELSE is the result if the statement evaluates to FALSE\r\n",
                "    END -- CASE statements use END commands to indicate they're finished instead of semicolons\r\n",
                "\r\n",
                "/* Let's check our work again! */\r\n",
                "\r\n",
                "SELECT * FROM helena.book\r\n",
                "WHERE genre_id in (\r\n",
                "    SELECT genre_id from helena.genre WHERE genres = 'Reference'\r\n",
                "    );"
            ],
            "metadata": {
                "azdata_cell_guid": "f8c66034-a75e-4fd3-96ac-50e25fd73263",
                "language": "sql"
            },
            "outputs": [
{
    "output_type": "error",
    "evalue": "Msg 208, Level 16, State 1, Line 9\r\nInvalid object name 'helena.reference_books'.",
    "ename": "",
    "traceback": []
}, {
    "output_type": "display_data",
    "data": {
        "text/html": "Total execution time: 00:00:00.035"
    },
    "metadata": {}
}
],
            "execution_count": 2
        }
    ]
}