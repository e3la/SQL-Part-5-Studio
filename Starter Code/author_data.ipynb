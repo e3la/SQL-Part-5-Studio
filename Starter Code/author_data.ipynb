{
    "metadata": {
        "kernelspec": {
            "name": "SQL",
            "display_name": "SQL",
            "language": "sql"
        },
        "language_info": {
            "name": "sql",
            "version": ""
        },
        "extensions": {
            "azuredatastudio": {
                "version": 1,
                "views": []
            }
        }
    },
    "nbformat_minor": 2,
    "nbformat": 4,
    "cells": [
        {
            "cell_type": "markdown",
            "source": [
                "# Starter code for the **Author** table\n",
                "\n",
                "**Before You Start:** You will need to update the starter code with your database and schema information"
            ],
            "metadata": {
                "azdata_cell_guid": "1099be87-c097-4183-bbe9-12a7ea161965"
            },
            "attachments": {}
        },
        {
            "cell_type": "code",
            "source": [
                "INSERT INTO helena.author(first_name, last_name, birth_year, death_year)\n",
                "VALUES ('Phillip', 'Pullman', 1946, null);\n",
                "\n",
                "INSERT INTO helena.author(first_name, last_name, birth_year, death_year)\n",
                "VALUES ('William', 'Shakespeare', 1564, 1616);\n",
                "\n",
                "INSERT INTO helena.author(first_name, last_name, birth_year, death_year)\n",
                "VALUES ('Paulo', 'Coelho', 1947, null);\n",
                "\n",
                "INSERT INTO helena.author(first_name, last_name, birth_year, death_year)\n",
                "VALUES ('Agatha', 'Christie', 1890-09-15, 1976-01-12);\n",
                "\n",
                "INSERT INTO helena.author(first_name, last_name, birth_year, death_year)\n",
                "VALUES ('Amy', 'Tan', 1952-02-19, null);\n",
                "\n",
                "INSERT INTO helena.author(first_name, last_name, birth_year, death_year)\n",
                "VALUES ('Jane', 'Austin', 1775-12-16, 1817-07-18);\n",
                "\n",
                "INSERT INTO helena.author(first_name, last_name, birth_year, death_year)\n",
                "VALUES ('Emily', 'Bronte', 1818-07-30, 1848-12-19);\n",
                "\n",
                "INSERT INTO helena.author(first_name, last_name, birth_year, death_year)\n",
                "VALUES ('Margaret', 'Atwood', 1939-11-18, null);\n",
                "\n",
                "INSERT INTO helena.author(first_name, last_name, birth_year, death_year)\n",
                "VALUES ('Octavia', 'Butler', 1947-06-22, 2006-02-24);\n",
                "\n",
                "INSERT INTO helena.author(first_name, last_name, birth_year, death_year)\n",
                "VALUES ('Louisa May', 'Alcott', 1832-11-29, 1888-03-06);\n",
                "\n",
                "INSERT INTO helena.author(first_name, last_name, birth_year, death_year)\n",
                "VALUES ('Louise', 'Penny', 1958-07-01, null);\n",
                "\n",
                "INSERT INTO helena.author(first_name, last_name, birth_year, death_year)\n",
                "VALUES ('Salman', 'Rushdie', 1947-08-19, null);\n",
                "\n",
                "INSERT INTO helena.author(first_name, last_name, birth_year, death_year)\n",
                "VALUES ('Mo', 'Willems', 1968-02-11, null);\n",
                "\n",
                "INSERT INTO helena.author(first_name, last_name, birth_year, death_year)\n",
                "VALUES ('Beverly', 'Cleary', 1916-04-12, null);\n",
                "\n",
                "INSERT INTO helena.author(first_name, last_name, birth_year, death_year)\n",
                "VALUES ('Peter', 'Vollhardt', 1946-03-07, null);\n",
                "\n",
                "INSERT INTO helena.author(first_name, last_name, birth_year, death_year)\n",
                "VALUES ('Maya', 'Angelou', 1928-04-04, 2014-05-28);\n",
                "\n",
                "INSERT INTO helena.author(first_name, last_name, birth_year, death_year)\n",
                "VALUES ('Toni', 'Morrison', 1931-02-18, 2019-08-05);\n",
                "\n",
                "INSERT INTO helena.author(first_name, last_name, birth_year, death_year)\n",
                "VALUES ('Shirley', 'LeFlore', 1940-03-06, 2019-05-12)"
            ],
            "metadata": {
                "azdata_cell_guid": "4a9acf7e-be00-4257-aef7-5e79c00c3222",
                "language": "sql"
            },
            "outputs": [
{
    "output_type": "error",
    "evalue": "Msg 208, Level 16, State 1, Line 1\r\nInvalid object name 'helena.author'.",
    "ename": "",
    "traceback": []
}, {
    "output_type": "display_data",
    "data": {
        "text/html": "Total execution time: 00:00:00.035"
    },
    "metadata": {}
}
],
            "execution_count": 2
        }
    ]
}