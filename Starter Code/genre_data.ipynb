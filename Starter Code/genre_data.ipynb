{
    "metadata": {
        "kernelspec": {
            "name": "SQL",
            "display_name": "SQL",
            "language": "sql"
        },
        "language_info": {
            "name": "sql",
            "version": ""
        },
        "extensions": {
            "azuredatastudio": {
                "version": 1,
                "views": []
            }
        }
    },
    "nbformat_minor": 2,
    "nbformat": 4,
    "cells": [
        {
            "cell_type": "markdown",
            "source": [
                "# Starter code for the **Genre** table\n",
                "\n",
                "**Before You Start:** You will need to update the starter code with your database and schema information"
            ],
            "metadata": {
                "azdata_cell_guid": "3c0408a8-1405-46cd-a03e-4eea4c436c48"
            },
            "attachments": {}
        },
        {
            "cell_type": "code",
            "source": [
                "-- populating genre table\n",
                "INSERT INTO helena.genre(genre_id, genres)\n",
                "VALUES (1, 'Fantasy');\n",
                "\n",
                "INSERT INTO helena.genre(genre_id, genres)\n",
                "VALUES (2, 'Adventure');\n",
                "\n",
                "INSERT INTO helena.genre(genre_id, genres)\n",
                "VALUES (3, 'Romance');\n",
                "\n",
                "INSERT INTO helena.genre(genre_id, genres)\n",
                "VALUES (4, 'Contemporary');\n",
                "\n",
                "INSERT INTO helena.genre(genre_id, genres)\n",
                "VALUES (5, 'Dystopian');\n",
                "\n",
                "INSERT INTO helena.genre(genre_id, genres)\n",
                "VALUES (6, 'Mystery');\n",
                "\n",
                "INSERT INTO helena.genre(genre_id, genres)\n",
                "VALUES (7, 'Horror');\n",
                "\n",
                "INSERT INTO helena.genre(genre_id, genres)\n",
                "VALUES (8, 'Thriller');\n",
                "\n",
                "INSERT INTO helena.genre(genre_id, genres)\n",
                "VALUES (9, 'Paranormal');\n",
                "\n",
                "INSERT INTO helena.genre(genre_id, genres)\n",
                "VALUES (10, 'Historical Fiction');\n",
                "\n",
                "INSERT INTO helena.genre(genre_id, genres)\n",
                "VALUES (11, 'Science Fiction');\n",
                "\n",
                "INSERT INTO helena.genre(genre_id, genres)\n",
                "VALUES (12, 'Memoir');\n",
                "\n",
                "INSERT INTO helena.genre(genre_id, genres)\n",
                "VALUES (13, 'Cooking');\n",
                "\n",
                "INSERT INTO helena.genre(genre_id, genres)\n",
                "VALUES (14, 'Art');\n",
                "\n",
                "INSERT INTO helena.genre(genre_id, genres)\n",
                "VALUES (15, 'Self-Help');\n",
                "\n",
                "INSERT INTO helena.genre(genre_id, genres)\n",
                "VALUES (16, 'Development');\n",
                "\n",
                "INSERT INTO helena.genre(genre_id, genres)\n",
                "VALUES (17, 'Motivational');\n",
                "\n",
                "INSERT INTO helena.genre(genre_id, genres)\n",
                "VALUES (18, 'Health');\n",
                "\n",
                "INSERT INTO helena.genre(genre_id, genres)\n",
                "VALUES (19, 'History');\n",
                "\n",
                "INSERT INTO helena.genre(genre_id, genres)\n",
                "VALUES (20, 'Travel');\n",
                "\n",
                "INSERT INTO helena.genre(genre_id, genres)\n",
                "VALUES (21, 'Guide');\n",
                "\n",
                "INSERT INTO helena.genre(genre_id, genres)\n",
                "VALUES (22, 'Families and Relationships');\n",
                "\n",
                "INSERT INTO helena.genre(genre_id, genres)\n",
                "VALUES (23, 'Humor');\n",
                "\n",
                "INSERT INTO helena.genre(genre_id, genres)\n",
                "VALUES (24, 'Childrens');\n",
                "\n",
                "INSERT INTO helena.genre(genre_id, genres)\n",
                "VALUES (25, 'Reference');\n",
                "\n",
                "INSERT INTO helena.genre(genre_id, genres)\n",
                "VALUES (26, 'Poetry');"
            ],
            "metadata": {
                "azdata_cell_guid": "ed9288e9-2d3f-47fc-8ad8-d06614a717e6",
                "language": "sql"
            },
            "outputs": [],
            "execution_count": null
        }
    ]
}